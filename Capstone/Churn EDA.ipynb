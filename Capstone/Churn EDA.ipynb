{
 "cells": [
  {
   "cell_type": "code",
   "execution_count": 1,
   "metadata": {},
   "outputs": [],
   "source": [
    "import numpy as np \n",
    "import pandas as pd \n",
    "import matplotlib.pyplot as plt\n",
    "import seaborn as sns\n",
    "from sklearn.utils import resample\n",
    "\n",
    "\n",
    "\n",
    "pd.set_option('display.max_columns', 200)"
   ]
  },
  {
   "cell_type": "markdown",
   "metadata": {},
   "source": [
    "# Loading Data\n",
    "As there is a large amount of data in user_logs I will be limiting the number of rows in the loaded data "
   ]
  },
  {
   "cell_type": "code",
   "execution_count": 2,
   "metadata": {},
   "outputs": [],
   "source": [
    "train = pd.read_csv('./kkbox-churn-prediction-challenge/train.csv')\n",
    "members = pd.read_csv('./kkbox-churn-prediction-challenge/members_V3.csv', nrows=10000000)\n",
    "transactions = pd.read_csv('./kkbox-churn-prediction-challenge/transactions.csv', nrows=10000000)\n",
    "user_logs = pd.read_csv('./kkbox-churn-prediction-challenge/user_logs.csv',nrows = 100000000)"
   ]
  },
  {
   "cell_type": "markdown",
   "metadata": {},
   "source": [
    "#### Train Dataset"
   ]
  },
  {
   "cell_type": "code",
   "execution_count": 3,
   "metadata": {},
   "outputs": [
    {
     "name": "stdout",
     "output_type": "stream",
     "text": [
      "(992931, 2)\n"
     ]
    },
    {
     "data": {
      "text/html": [
       "<div>\n",
       "<style scoped>\n",
       "    .dataframe tbody tr th:only-of-type {\n",
       "        vertical-align: middle;\n",
       "    }\n",
       "\n",
       "    .dataframe tbody tr th {\n",
       "        vertical-align: top;\n",
       "    }\n",
       "\n",
       "    .dataframe thead th {\n",
       "        text-align: right;\n",
       "    }\n",
       "</style>\n",
       "<table border=\"1\" class=\"dataframe\">\n",
       "  <thead>\n",
       "    <tr style=\"text-align: right;\">\n",
       "      <th></th>\n",
       "      <th>msno</th>\n",
       "      <th>is_churn</th>\n",
       "    </tr>\n",
       "  </thead>\n",
       "  <tbody>\n",
       "    <tr>\n",
       "      <th>0</th>\n",
       "      <td>waLDQMmcOu2jLDaV1ddDkgCrB/jl6sD66Xzs0Vqax1Y=</td>\n",
       "      <td>1</td>\n",
       "    </tr>\n",
       "    <tr>\n",
       "      <th>1</th>\n",
       "      <td>QA7uiXy8vIbUSPOkCf9RwQ3FsT8jVq2OxDr8zqa7bRQ=</td>\n",
       "      <td>1</td>\n",
       "    </tr>\n",
       "    <tr>\n",
       "      <th>2</th>\n",
       "      <td>fGwBva6hikQmTJzrbz/2Ezjm5Cth5jZUNvXigKK2AFA=</td>\n",
       "      <td>1</td>\n",
       "    </tr>\n",
       "    <tr>\n",
       "      <th>3</th>\n",
       "      <td>mT5V8rEpa+8wuqi6x0DoVd3H5icMKkE9Prt49UlmK+4=</td>\n",
       "      <td>1</td>\n",
       "    </tr>\n",
       "    <tr>\n",
       "      <th>4</th>\n",
       "      <td>XaPhtGLk/5UvvOYHcONTwsnH97P4eGECeq+BARGItRw=</td>\n",
       "      <td>1</td>\n",
       "    </tr>\n",
       "  </tbody>\n",
       "</table>\n",
       "</div>"
      ],
      "text/plain": [
       "                                           msno  is_churn\n",
       "0  waLDQMmcOu2jLDaV1ddDkgCrB/jl6sD66Xzs0Vqax1Y=         1\n",
       "1  QA7uiXy8vIbUSPOkCf9RwQ3FsT8jVq2OxDr8zqa7bRQ=         1\n",
       "2  fGwBva6hikQmTJzrbz/2Ezjm5Cth5jZUNvXigKK2AFA=         1\n",
       "3  mT5V8rEpa+8wuqi6x0DoVd3H5icMKkE9Prt49UlmK+4=         1\n",
       "4  XaPhtGLk/5UvvOYHcONTwsnH97P4eGECeq+BARGItRw=         1"
      ]
     },
     "execution_count": 3,
     "metadata": {},
     "output_type": "execute_result"
    }
   ],
   "source": [
    "print(train.shape)\n",
    "train.head()"
   ]
  },
  {
   "cell_type": "code",
   "execution_count": 4,
   "metadata": {},
   "outputs": [
    {
     "name": "stdout",
     "output_type": "stream",
     "text": [
      "<class 'pandas.core.frame.DataFrame'>\n",
      "RangeIndex: 992931 entries, 0 to 992930\n",
      "Data columns (total 2 columns):\n",
      "msno        992931 non-null object\n",
      "is_churn    992931 non-null int64\n",
      "dtypes: int64(1), object(1)\n",
      "memory usage: 15.2+ MB\n"
     ]
    }
   ],
   "source": [
    "train.info()"
   ]
  },
  {
   "cell_type": "code",
   "execution_count": 5,
   "metadata": {},
   "outputs": [
    {
     "name": "stdout",
     "output_type": "stream",
     "text": [
      "0    0.936077\n",
      "1    0.063923\n",
      "Name: is_churn, dtype: float64\n"
     ]
    },
    {
     "data": {
      "text/plain": [
       "<matplotlib.axes._subplots.AxesSubplot at 0x1c74111c88>"
      ]
     },
     "execution_count": 5,
     "metadata": {},
     "output_type": "execute_result"
    },
    {
     "data": {
      "image/png": "[encoded data removed]",
      "text/plain": [
       "<Figure size 432x288 with 1 Axes>"
      ]
     },
     "metadata": {
      "needs_background": "light"
     },
     "output_type": "display_data"
    }
   ],
   "source": [
    "print(train.is_churn.value_counts(dropna=False,normalize=True))\n",
    "train.is_churn.value_counts(dropna=False,normalize=True).plot(kind='bar')"
   ]
  },
  {
   "cell_type": "code",
   "execution_count": 6,
   "metadata": {},
   "outputs": [],
   "source": [
    "# low variance in churn data may have to resample"
   ]
  },
  {
   "cell_type": "markdown",
   "metadata": {},
   "source": [
    "#### Member Dataset vs Train Data set"
   ]
  },
  {
   "cell_type": "code",
   "execution_count": 101,
   "metadata": {},
   "outputs": [],
   "source": [
    "df_member= pd.merge(left = train,right = members,how = 'inner',on=['msno'])"
   ]
  },
  {
   "cell_type": "code",
   "execution_count": 102,
   "metadata": {},
   "outputs": [
    {
     "name": "stdout",
     "output_type": "stream",
     "text": [
      "(877161, 7)\n"
     ]
    },
    {
     "data": {
      "text/html": [
       "<div>\n",
       "<style scoped>\n",
       "    .dataframe tbody tr th:only-of-type {\n",
       "        vertical-align: middle;\n",
       "    }\n",
       "\n",
       "    .dataframe tbody tr th {\n",
       "        vertical-align: top;\n",
       "    }\n",
       "\n",
       "    .dataframe thead th {\n",
       "        text-align: right;\n",
       "    }\n",
       "</style>\n",
       "<table border=\"1\" class=\"dataframe\">\n",
       "  <thead>\n",
       "    <tr style=\"text-align: right;\">\n",
       "      <th></th>\n",
       "      <th>msno</th>\n",
       "      <th>is_churn</th>\n",
       "      <th>city</th>\n",
       "      <th>bd</th>\n",
       "      <th>gender</th>\n",
       "      <th>registered_via</th>\n",
       "      <th>registration_init_time</th>\n",
       "    </tr>\n",
       "  </thead>\n",
       "  <tbody>\n",
       "    <tr>\n",
       "      <th>0</th>\n",
       "      <td>waLDQMmcOu2jLDaV1ddDkgCrB/jl6sD66Xzs0Vqax1Y=</td>\n",
       "      <td>1</td>\n",
       "      <td>18</td>\n",
       "      <td>36</td>\n",
       "      <td>female</td>\n",
       "      <td>9</td>\n",
       "      <td>20050406</td>\n",
       "    </tr>\n",
       "    <tr>\n",
       "      <th>1</th>\n",
       "      <td>QA7uiXy8vIbUSPOkCf9RwQ3FsT8jVq2OxDr8zqa7bRQ=</td>\n",
       "      <td>1</td>\n",
       "      <td>10</td>\n",
       "      <td>38</td>\n",
       "      <td>male</td>\n",
       "      <td>9</td>\n",
       "      <td>20050407</td>\n",
       "    </tr>\n",
       "    <tr>\n",
       "      <th>2</th>\n",
       "      <td>fGwBva6hikQmTJzrbz/2Ezjm5Cth5jZUNvXigKK2AFA=</td>\n",
       "      <td>1</td>\n",
       "      <td>11</td>\n",
       "      <td>27</td>\n",
       "      <td>female</td>\n",
       "      <td>9</td>\n",
       "      <td>20051016</td>\n",
       "    </tr>\n",
       "    <tr>\n",
       "      <th>3</th>\n",
       "      <td>mT5V8rEpa+8wuqi6x0DoVd3H5icMKkE9Prt49UlmK+4=</td>\n",
       "      <td>1</td>\n",
       "      <td>13</td>\n",
       "      <td>23</td>\n",
       "      <td>female</td>\n",
       "      <td>9</td>\n",
       "      <td>20051102</td>\n",
       "    </tr>\n",
       "    <tr>\n",
       "      <th>4</th>\n",
       "      <td>XaPhtGLk/5UvvOYHcONTwsnH97P4eGECeq+BARGItRw=</td>\n",
       "      <td>1</td>\n",
       "      <td>3</td>\n",
       "      <td>27</td>\n",
       "      <td>male</td>\n",
       "      <td>9</td>\n",
       "      <td>20051228</td>\n",
       "    </tr>\n",
       "  </tbody>\n",
       "</table>\n",
       "</div>"
      ],
      "text/plain": [
       "                                           msno  is_churn  city  bd  gender  \\\n",
       "0  waLDQMmcOu2jLDaV1ddDkgCrB/jl6sD66Xzs0Vqax1Y=         1    18  36  female   \n",
       "1  QA7uiXy8vIbUSPOkCf9RwQ3FsT8jVq2OxDr8zqa7bRQ=         1    10  38    male   \n",
       "2  fGwBva6hikQmTJzrbz/2Ezjm5Cth5jZUNvXigKK2AFA=         1    11  27  female   \n",
       "3  mT5V8rEpa+8wuqi6x0DoVd3H5icMKkE9Prt49UlmK+4=         1    13  23  female   \n",
       "4  XaPhtGLk/5UvvOYHcONTwsnH97P4eGECeq+BARGItRw=         1     3  27    male   \n",
       "\n",
       "   registered_via  registration_init_time  \n",
       "0               9                20050406  \n",
       "1               9                20050407  \n",
       "2               9                20051016  \n",
       "3               9                20051102  \n",
       "4               9                20051228  "
      ]
     },
     "execution_count": 102,
     "metadata": {},
     "output_type": "execute_result"
    }
   ],
   "source": [
    "print(df_member.shape)\n",
    "df_member.head()"
   ]
  },
  {
   "cell_type": "code",
   "execution_count": 103,
   "metadata": {},
   "outputs": [
    {
     "name": "stdout",
     "output_type": "stream",
     "text": [
      "<class 'pandas.core.frame.DataFrame'>\n",
      "Int64Index: 877161 entries, 0 to 877160\n",
      "Data columns (total 7 columns):\n",
      "msno                      877161 non-null object\n",
      "is_churn                  877161 non-null int64\n",
      "city                      877161 non-null int64\n",
      "bd                        877161 non-null int64\n",
      "gender                    391692 non-null object\n",
      "registered_via            877161 non-null int64\n",
      "registration_init_time    877161 non-null int64\n",
      "dtypes: int64(5), object(2)\n",
      "memory usage: 53.5+ MB\n"
     ]
    }
   ],
   "source": [
    "df_member.info()"
   ]
  },
  {
   "cell_type": "code",
   "execution_count": 104,
   "metadata": {},
   "outputs": [
    {
     "name": "stdout",
     "output_type": "stream",
     "text": [
      "NaN       485469\n",
      "male      206284\n",
      "female    185408\n",
      "Name: gender, dtype: int64\n",
      "NaN       55.345484\n",
      "male      23.517233\n",
      "female    21.137283\n",
      "Name: gender, dtype: float64\n"
     ]
    },
    {
     "data": {
      "text/plain": [
       "<matplotlib.axes._subplots.AxesSubplot at 0x1a32e0ddd8>"
      ]
     },
     "execution_count": 104,
     "metadata": {},
     "output_type": "execute_result"
    },
    {
     "data": {
      "image/png": "[encoded data removed]",
      "text/plain": [
       "<Figure size 432x288 with 1 Axes>"
      ]
     },
     "metadata": {
      "needs_background": "light"
     },
     "output_type": "display_data"
    }
   ],
   "source": [
    "print(df_member.gender.value_counts(dropna=False))\n",
    "print(df_member.gender.value_counts(dropna=False,normalize=True)*100)\n",
    "df_member.gender.value_counts(dropna=False,normalize=True).plot(kind='bar')"
   ]
  },
  {
   "cell_type": "code",
   "execution_count": 105,
   "metadata": {},
   "outputs": [
    {
     "data": {
      "text/plain": [
       "gender  is_churn\n",
       "female  0           0.913634\n",
       "        1           0.086366\n",
       "male    0           0.911554\n",
       "        1           0.088446\n",
       "Name: is_churn, dtype: float64"
      ]
     },
     "execution_count": 105,
     "metadata": {},
     "output_type": "execute_result"
    }
   ],
   "source": [
    "gender_churn = df_member[['gender', 'is_churn']]\n",
    "gender_churn.groupby('gender')['is_churn'].value_counts(dropna=False,normalize=True)"
   ]
  },
  {
   "cell_type": "code",
   "execution_count": 106,
   "metadata": {},
   "outputs": [
    {
     "name": "stdout",
     "output_type": "stream",
     "text": [
      "<class 'pandas.core.frame.DataFrame'>\n",
      "Int64Index: 877161 entries, 0 to 877160\n",
      "Data columns (total 2 columns):\n",
      "gender      391692 non-null object\n",
      "is_churn    877161 non-null int64\n",
      "dtypes: int64(1), object(1)\n",
      "memory usage: 20.1+ MB\n"
     ]
    }
   ],
   "source": [
    "gender_churn.info()"
   ]
  },
  {
   "cell_type": "code",
   "execution_count": 107,
   "metadata": {},
   "outputs": [
    {
     "data": {
      "text/plain": [
       "array(['female', 'male', nan], dtype=object)"
      ]
     },
     "execution_count": 107,
     "metadata": {},
     "output_type": "execute_result"
    }
   ],
   "source": [
    "gender_churn['gender'].unique()"
   ]
  },
  {
   "cell_type": "code",
   "execution_count": 108,
   "metadata": {},
   "outputs": [
    {
     "name": "stderr",
     "output_type": "stream",
     "text": [
      "/anaconda3/lib/python3.7/site-packages/ipykernel_launcher.py:2: SettingWithCopyWarning: \n",
      "A value is trying to be set on a copy of a slice from a DataFrame.\n",
      "Try using .loc[row_indexer,col_indexer] = value instead\n",
      "\n",
      "See the caveats in the documentation: http://pandas.pydata.org/pandas-docs/stable/indexing.html#indexing-view-versus-copy\n",
      "  \n"
     ]
    }
   ],
   "source": [
    "gender_churn = df_member[['gender', 'is_churn']]\n",
    "gender_churn['gender']=gender_churn['gender'].fillna(\"other\")\n"
   ]
  },
  {
   "cell_type": "code",
   "execution_count": 109,
   "metadata": {},
   "outputs": [
    {
     "data": {
      "text/plain": [
       "0    93.42709\n",
       "1     6.57291\n",
       "Name: is_churn, dtype: float64"
      ]
     },
     "execution_count": 109,
     "metadata": {},
     "output_type": "execute_result"
    }
   ],
   "source": [
    "gender_churn.is_churn.value_counts(dropna=False,normalize=True)*100"
   ]
  },
  {
   "cell_type": "code",
   "execution_count": 110,
   "metadata": {},
   "outputs": [
    {
     "data": {
      "text/plain": [
       "is_churn  gender\n",
       "0         other     0.563842\n",
       "          male      0.229454\n",
       "          female    0.206704\n",
       "1         other     0.405810\n",
       "          male      0.316451\n",
       "          female    0.277738\n",
       "Name: gender, dtype: float64"
      ]
     },
     "execution_count": 110,
     "metadata": {},
     "output_type": "execute_result"
    }
   ],
   "source": [
    "gender_churn2 = gender_churn.groupby('is_churn')['gender'].value_counts(dropna=False,normalize=True)\n",
    "gender_churn2"
   ]
  },
  {
   "cell_type": "code",
   "execution_count": 111,
   "metadata": {},
   "outputs": [],
   "source": [
    "#gender_churn.plot.bar(stacked=True)"
   ]
  },
  {
   "cell_type": "code",
   "execution_count": 112,
   "metadata": {},
   "outputs": [],
   "source": [
    "# 60% of column gender is missing. This column can be dropped"
   ]
  },
  {
   "cell_type": "code",
   "execution_count": 113,
   "metadata": {},
   "outputs": [],
   "source": [
    "df_member.drop(['gender'], axis=1, inplace = True)"
   ]
  },
  {
   "cell_type": "code",
   "execution_count": 114,
   "metadata": {},
   "outputs": [
    {
     "name": "stdout",
     "output_type": "stream",
     "text": [
      "1     51.916239\n",
      "13    11.204443\n",
      "5      8.128382\n",
      "4      5.465929\n",
      "15     4.942764\n",
      "22     4.802881\n",
      "6      2.966616\n",
      "14     2.299122\n",
      "12     1.317204\n",
      "9      1.089652\n",
      "11     1.030142\n",
      "18     0.894021\n",
      "8      0.876692\n",
      "10     0.744789\n",
      "17     0.632267\n",
      "21     0.602626\n",
      "3      0.580167\n",
      "7      0.303935\n",
      "16     0.108988\n",
      "20     0.077181\n",
      "19     0.015961\n",
      "Name: city, dtype: float64\n"
     ]
    },
    {
     "data": {
      "text/plain": [
       "<matplotlib.axes._subplots.AxesSubplot at 0x1a160985f8>"
      ]
     },
     "execution_count": 114,
     "metadata": {},
     "output_type": "execute_result"
    },
    {
     "data": {
      "image/png": "[encoded data removed]",
      "text/plain": [
       "<Figure size 432x288 with 1 Axes>"
      ]
     },
     "metadata": {
      "needs_background": "light"
     },
     "output_type": "display_data"
    }
   ],
   "source": [
    "print(df_member.city.value_counts(dropna=False,normalize=True)*100)\n",
    "df_member.city.value_counts(dropna=False,normalize=True).plot(kind='bar')"
   ]
  },
  {
   "cell_type": "code",
   "execution_count": 115,
   "metadata": {},
   "outputs": [],
   "source": [
    "  \n",
    "def city_fixer(row):\n",
    "    if row['city'] in [1,5,13,4,22,15] :\n",
    "        return row['city']\n",
    "    else:\n",
    "        return 999\n",
    "    \n"
   ]
  },
  {
   "cell_type": "code",
   "execution_count": 116,
   "metadata": {},
   "outputs": [],
   "source": [
    "df_member['city']= df_member.apply (lambda row: city_fixer(row), axis=1)"
   ]
  },
  {
   "cell_type": "code",
   "execution_count": 117,
   "metadata": {},
   "outputs": [
    {
     "name": "stdout",
     "output_type": "stream",
     "text": [
      "1      51.916239\n",
      "999    13.539362\n",
      "13     11.204443\n",
      "5       8.128382\n",
      "4       5.465929\n",
      "15      4.942764\n",
      "22      4.802881\n",
      "Name: city, dtype: float64\n"
     ]
    },
    {
     "data": {
      "text/plain": [
       "<matplotlib.axes._subplots.AxesSubplot at 0x1a16b99c18>"
      ]
     },
     "execution_count": 117,
     "metadata": {},
     "output_type": "execute_result"
    },
    {
     "data": {
      "image/png": "[encoded data removed]",
      "text/plain": [
       "<Figure size 432x288 with 1 Axes>"
      ]
     },
     "metadata": {
      "needs_background": "light"
     },
     "output_type": "display_data"
    }
   ],
   "source": [
    "print(df_member.city.value_counts(dropna=False,normalize=True)*100)\n",
    "df_member.city.value_counts(dropna=False,normalize=True).plot(kind='bar')"
   ]
  },
  {
   "cell_type": "code",
   "execution_count": 118,
   "metadata": {},
   "outputs": [
    {
     "data": {
      "text/plain": [
       "city  is_churn\n",
       "1     0           0.951589\n",
       "      1           0.048411\n",
       "4     0           0.911065\n",
       "      1           0.088935\n",
       "5     0           0.912369\n",
       "      1           0.087631\n",
       "13    0           0.921267\n",
       "      1           0.078733\n",
       "15    0           0.915767\n",
       "      1           0.084233\n",
       "22    0           0.915759\n",
       "      1           0.084241\n",
       "999   0           0.914468\n",
       "      1           0.085532\n",
       "Name: is_churn, dtype: float64"
      ]
     },
     "execution_count": 118,
     "metadata": {},
     "output_type": "execute_result"
    }
   ],
   "source": [
    "cities_churn = df_member[['city', 'is_churn']]\n",
    "cities_churn = cities_churn.groupby('city')['is_churn'].value_counts(dropna=False,normalize=True)\n",
    "cities_churn"
   ]
  },
  {
   "cell_type": "code",
   "execution_count": 119,
   "metadata": {},
   "outputs": [
    {
     "data": {
      "text/plain": [
       "<matplotlib.axes._subplots.AxesSubplot at 0x1a45cd0b38>"
      ]
     },
     "execution_count": 119,
     "metadata": {},
     "output_type": "execute_result"
    },
    {
     "data": {
      "image/png": "[encoded data removed]",
      "text/plain": [
       "<Figure size 432x288 with 1 Axes>"
      ]
     },
     "metadata": {
      "needs_background": "light"
     },
     "output_type": "display_data"
    }
   ],
   "source": [
    "df_member.boxplot('bd')"
   ]
  },
  {
   "cell_type": "code",
   "execution_count": 120,
   "metadata": {},
   "outputs": [],
   "source": [
    "def bd_fixer(row):\n",
    "    if (row['bd'] > 0) & (row['bd'] <=100) :\n",
    "        return row['bd']\n",
    "    else:\n",
    "        return 999"
   ]
  },
  {
   "cell_type": "code",
   "execution_count": 121,
   "metadata": {},
   "outputs": [],
   "source": [
    "df_member['bd']= df_member.apply (lambda row: bd_fixer(row), axis=1)"
   ]
  },
  {
   "cell_type": "code",
   "execution_count": 122,
   "metadata": {},
   "outputs": [
    {
     "data": {
      "text/plain": [
       "(877161,)"
      ]
     },
     "execution_count": 122,
     "metadata": {},
     "output_type": "execute_result"
    }
   ],
   "source": [
    "df_member['bd'].shape"
   ]
  },
  {
   "cell_type": "code",
   "execution_count": 123,
   "metadata": {},
   "outputs": [],
   "source": [
    "def bd_checker(row):\n",
    "    if (row['bd'] > 0) & (row['bd'] <=100) :\n",
    "        return 'good'\n",
    "    else:\n",
    "        return 'bad'"
   ]
  },
  {
   "cell_type": "code",
   "execution_count": 124,
   "metadata": {},
   "outputs": [],
   "source": [
    "df_member['bd_checker']= df_member.apply (lambda row: bd_checker(row), axis=1)"
   ]
  },
  {
   "cell_type": "code",
   "execution_count": 125,
   "metadata": {},
   "outputs": [
    {
     "data": {
      "text/plain": [
       "bad     55.636423\n",
       "good    44.363577\n",
       "Name: bd_checker, dtype: float64"
      ]
     },
     "execution_count": 125,
     "metadata": {},
     "output_type": "execute_result"
    }
   ],
   "source": [
    "df_member['bd_checker'].value_counts(dropna=False,normalize=True)*100\n"
   ]
  },
  {
   "cell_type": "code",
   "execution_count": 126,
   "metadata": {},
   "outputs": [
    {
     "data": {
      "text/plain": [
       "bd_checker  is_churn\n",
       "bad         0           0.952377\n",
       "            1           0.047623\n",
       "good        0           0.911564\n",
       "            1           0.088436\n",
       "Name: is_churn, dtype: float64"
      ]
     },
     "execution_count": 126,
     "metadata": {},
     "output_type": "execute_result"
    }
   ],
   "source": [
    "bd_churn = df_member[['bd_checker', 'is_churn']]\n",
    "bd_churn = bd_churn.groupby('bd_checker')['is_churn'].value_counts(dropna=False,normalize=True)\n",
    "bd_churn"
   ]
  },
  {
   "cell_type": "code",
   "execution_count": 127,
   "metadata": {},
   "outputs": [],
   "source": [
    "# convert date column into date format\n",
    "df_member['registration_init_time'] = pd.to_datetime(df_member['registration_init_time'], format='%Y%m%d')"
   ]
  },
  {
   "cell_type": "code",
   "execution_count": 128,
   "metadata": {},
   "outputs": [],
   "source": [
    "# break date column in to parts for further analysis\n",
    "df_member['registration_year'] = df_member.registration_init_time.dt.year\n",
    "df_member['registration_month'] = df_member.registration_init_time.dt.month\n",
    "df_member['registration_day'] = df_member.registration_init_time.dt.day\n",
    "df_member['registration_weekday'] = df_member.registration_init_time.dt.weekday\n",
    "df_member['registration_day_of_week'] = df_member.registration_init_time.dt.weekday_name\n"
   ]
  },
  {
   "cell_type": "code",
   "execution_count": 129,
   "metadata": {},
   "outputs": [
    {
     "name": "stdout",
     "output_type": "stream",
     "text": [
      "<class 'pandas.core.frame.DataFrame'>\n",
      "Int64Index: 877161 entries, 0 to 877160\n",
      "Data columns (total 12 columns):\n",
      "msno                        877161 non-null object\n",
      "is_churn                    877161 non-null int64\n",
      "city                        877161 non-null int64\n",
      "bd                          877161 non-null int64\n",
      "registered_via              877161 non-null int64\n",
      "registration_init_time      877161 non-null datetime64[ns]\n",
      "bd_checker                  877161 non-null object\n",
      "registration_year           877161 non-null int64\n",
      "registration_month          877161 non-null int64\n",
      "registration_day            877161 non-null int64\n",
      "registration_weekday        877161 non-null int64\n",
      "registration_day_of_week    877161 non-null object\n",
      "dtypes: datetime64[ns](1), int64(8), object(3)\n",
      "memory usage: 87.0+ MB\n"
     ]
    }
   ],
   "source": [
    "df_member.info()"
   ]
  },
  {
   "cell_type": "code",
   "execution_count": 130,
   "metadata": {},
   "outputs": [
    {
     "data": {
      "text/html": [
       "<div>\n",
       "<style scoped>\n",
       "    .dataframe tbody tr th:only-of-type {\n",
       "        vertical-align: middle;\n",
       "    }\n",
       "\n",
       "    .dataframe tbody tr th {\n",
       "        vertical-align: top;\n",
       "    }\n",
       "\n",
       "    .dataframe thead th {\n",
       "        text-align: right;\n",
       "    }\n",
       "</style>\n",
       "<table border=\"1\" class=\"dataframe\">\n",
       "  <thead>\n",
       "    <tr style=\"text-align: right;\">\n",
       "      <th></th>\n",
       "      <th>msno</th>\n",
       "      <th>is_churn</th>\n",
       "      <th>city</th>\n",
       "      <th>bd</th>\n",
       "      <th>registered_via</th>\n",
       "      <th>registration_init_time</th>\n",
       "      <th>bd_checker</th>\n",
       "      <th>registration_year</th>\n",
       "      <th>registration_month</th>\n",
       "      <th>registration_day</th>\n",
       "      <th>registration_weekday</th>\n",
       "      <th>registration_day_of_week</th>\n",
       "    </tr>\n",
       "  </thead>\n",
       "  <tbody>\n",
       "    <tr>\n",
       "      <th>0</th>\n",
       "      <td>waLDQMmcOu2jLDaV1ddDkgCrB/jl6sD66Xzs0Vqax1Y=</td>\n",
       "      <td>1</td>\n",
       "      <td>999</td>\n",
       "      <td>36</td>\n",
       "      <td>9</td>\n",
       "      <td>2005-04-06</td>\n",
       "      <td>good</td>\n",
       "      <td>2005</td>\n",
       "      <td>4</td>\n",
       "      <td>6</td>\n",
       "      <td>2</td>\n",
       "      <td>Wednesday</td>\n",
       "    </tr>\n",
       "    <tr>\n",
       "      <th>1</th>\n",
       "      <td>QA7uiXy8vIbUSPOkCf9RwQ3FsT8jVq2OxDr8zqa7bRQ=</td>\n",
       "      <td>1</td>\n",
       "      <td>999</td>\n",
       "      <td>38</td>\n",
       "      <td>9</td>\n",
       "      <td>2005-04-07</td>\n",
       "      <td>good</td>\n",
       "      <td>2005</td>\n",
       "      <td>4</td>\n",
       "      <td>7</td>\n",
       "      <td>3</td>\n",
       "      <td>Thursday</td>\n",
       "    </tr>\n",
       "    <tr>\n",
       "      <th>2</th>\n",
       "      <td>fGwBva6hikQmTJzrbz/2Ezjm5Cth5jZUNvXigKK2AFA=</td>\n",
       "      <td>1</td>\n",
       "      <td>999</td>\n",
       "      <td>27</td>\n",
       "      <td>9</td>\n",
       "      <td>2005-10-16</td>\n",
       "      <td>good</td>\n",
       "      <td>2005</td>\n",
       "      <td>10</td>\n",
       "      <td>16</td>\n",
       "      <td>6</td>\n",
       "      <td>Sunday</td>\n",
       "    </tr>\n",
       "    <tr>\n",
       "      <th>3</th>\n",
       "      <td>mT5V8rEpa+8wuqi6x0DoVd3H5icMKkE9Prt49UlmK+4=</td>\n",
       "      <td>1</td>\n",
       "      <td>13</td>\n",
       "      <td>23</td>\n",
       "      <td>9</td>\n",
       "      <td>2005-11-02</td>\n",
       "      <td>good</td>\n",
       "      <td>2005</td>\n",
       "      <td>11</td>\n",
       "      <td>2</td>\n",
       "      <td>2</td>\n",
       "      <td>Wednesday</td>\n",
       "    </tr>\n",
       "    <tr>\n",
       "      <th>4</th>\n",
       "      <td>XaPhtGLk/5UvvOYHcONTwsnH97P4eGECeq+BARGItRw=</td>\n",
       "      <td>1</td>\n",
       "      <td>999</td>\n",
       "      <td>27</td>\n",
       "      <td>9</td>\n",
       "      <td>2005-12-28</td>\n",
       "      <td>good</td>\n",
       "      <td>2005</td>\n",
       "      <td>12</td>\n",
       "      <td>28</td>\n",
       "      <td>2</td>\n",
       "      <td>Wednesday</td>\n",
       "    </tr>\n",
       "  </tbody>\n",
       "</table>\n",
       "</div>"
      ],
      "text/plain": [
       "                                           msno  is_churn  city  bd  \\\n",
       "0  waLDQMmcOu2jLDaV1ddDkgCrB/jl6sD66Xzs0Vqax1Y=         1   999  36   \n",
       "1  QA7uiXy8vIbUSPOkCf9RwQ3FsT8jVq2OxDr8zqa7bRQ=         1   999  38   \n",
       "2  fGwBva6hikQmTJzrbz/2Ezjm5Cth5jZUNvXigKK2AFA=         1   999  27   \n",
       "3  mT5V8rEpa+8wuqi6x0DoVd3H5icMKkE9Prt49UlmK+4=         1    13  23   \n",
       "4  XaPhtGLk/5UvvOYHcONTwsnH97P4eGECeq+BARGItRw=         1   999  27   \n",
       "\n",
       "   registered_via registration_init_time bd_checker  registration_year  \\\n",
       "0               9             2005-04-06       good               2005   \n",
       "1               9             2005-04-07       good               2005   \n",
       "2               9             2005-10-16       good               2005   \n",
       "3               9             2005-11-02       good               2005   \n",
       "4               9             2005-12-28       good               2005   \n",
       "\n",
       "   registration_month  registration_day  registration_weekday  \\\n",
       "0                   4                 6                     2   \n",
       "1                   4                 7                     3   \n",
       "2                  10                16                     6   \n",
       "3                  11                 2                     2   \n",
       "4                  12                28                     2   \n",
       "\n",
       "  registration_day_of_week  \n",
       "0                Wednesday  \n",
       "1                 Thursday  \n",
       "2                   Sunday  \n",
       "3                Wednesday  \n",
       "4                Wednesday  "
      ]
     },
     "execution_count": 130,
     "metadata": {},
     "output_type": "execute_result"
    }
   ],
   "source": [
    "df_member.head()"
   ]
  },
  {
   "cell_type": "code",
   "execution_count": 35,
   "metadata": {},
   "outputs": [
    {
     "data": {
      "image/png": "[encoded data removed]",
      "text/plain": [
       "<Figure size 1152x360 with 1 Axes>"
      ]
     },
     "metadata": {
      "needs_background": "light"
     },
     "output_type": "display_data"
    }
   ],
   "source": [
    "# graph count of members registration date over time\n",
    "member_date = df_member.groupby('registration_init_time').registration_init_time.count()\n",
    "ax = member_date.plot(figsize=(16, 5))\n"
   ]
  },
  {
   "cell_type": "code",
   "execution_count": 36,
   "metadata": {},
   "outputs": [],
   "source": [
    "#fairly low numbers of registrations daily until around 2013 where member registration increases overall but\n",
    "#erratically on a day to day basis"
   ]
  },
  {
   "cell_type": "code",
   "execution_count": 37,
   "metadata": {},
   "outputs": [
    {
     "name": "stdout",
     "output_type": "stream",
     "text": [
      "Saturday     16.182662\n",
      "Friday       14.395077\n",
      "Sunday       14.150196\n",
      "Monday       13.930054\n",
      "Tuesday      13.855609\n",
      "Thursday     13.771018\n",
      "Wednesday    13.715384\n",
      "Name: registration_day_of_week, dtype: float64\n"
     ]
    },
    {
     "data": {
      "text/plain": [
       "<matplotlib.axes._subplots.AxesSubplot at 0x1a31b580b8>"
      ]
     },
     "execution_count": 37,
     "metadata": {},
     "output_type": "execute_result"
    },
    {
     "data": {
      "image/png": "[encoded data removed]",
      "text/plain": [
       "<Figure size 432x288 with 1 Axes>"
      ]
     },
     "metadata": {
      "needs_background": "light"
     },
     "output_type": "display_data"
    }
   ],
   "source": [
    "print(df_member.registration_day_of_week.value_counts(dropna=False,normalize=True)*100)\n",
    "df_member.registration_day_of_week.value_counts(dropna=False,normalize=True).plot()"
   ]
  },
  {
   "cell_type": "code",
   "execution_count": 38,
   "metadata": {},
   "outputs": [
    {
     "name": "stdout",
     "output_type": "stream",
     "text": [
      "2016    23.586548\n",
      "2015    18.469585\n",
      "2013    13.345213\n",
      "2014    10.451901\n",
      "2012     8.810241\n",
      "2011     7.225469\n",
      "2010     4.549450\n",
      "2007     3.004580\n",
      "2006     2.074078\n",
      "2008     2.020724\n",
      "2017     1.902843\n",
      "2009     1.801722\n",
      "2005     1.796592\n",
      "2004     0.961055\n",
      "Name: registration_year, dtype: float64\n"
     ]
    },
    {
     "data": {
      "text/plain": [
       "<matplotlib.axes._subplots.AxesSubplot at 0x1a31bab630>"
      ]
     },
     "execution_count": 38,
     "metadata": {},
     "output_type": "execute_result"
    },
    {
     "data": {
      "image/png": "[encoded data removed]",
      "text/plain": [
       "<Figure size 432x288 with 1 Axes>"
      ]
     },
     "metadata": {
      "needs_background": "light"
     },
     "output_type": "display_data"
    }
   ],
   "source": [
    "print(df_member.registration_year.value_counts(dropna=False,normalize=True)*100)\n",
    "df_member.registration_year.value_counts(dropna=False,normalize=True).plot(kind='bar')"
   ]
  },
  {
   "cell_type": "code",
   "execution_count": 39,
   "metadata": {},
   "outputs": [
    {
     "name": "stdout",
     "output_type": "stream",
     "text": [
      "1     10.682988\n",
      "12     9.645664\n",
      "10     9.500536\n",
      "11     9.280280\n",
      "8      8.940662\n",
      "7      8.720178\n",
      "2      8.282516\n",
      "9      8.020990\n",
      "3      7.648083\n",
      "6      6.909564\n",
      "5      6.523774\n",
      "4      5.844765\n",
      "Name: registration_month, dtype: float64\n"
     ]
    },
    {
     "data": {
      "text/plain": [
       "<matplotlib.axes._subplots.AxesSubplot at 0x1a33a2edd8>"
      ]
     },
     "execution_count": 39,
     "metadata": {},
     "output_type": "execute_result"
    },
    {
     "data": {
      "image/png": "[encoded data removed]",
      "text/plain": [
       "<Figure size 432x288 with 1 Axes>"
      ]
     },
     "metadata": {
      "needs_background": "light"
     },
     "output_type": "display_data"
    }
   ],
   "source": [
    "print(df_member.registration_month.value_counts(dropna=False,normalize=True)*100)\n",
    "df_member.registration_month.value_counts(dropna=False,normalize=True).plot(kind='bar')"
   ]
  },
  {
   "cell_type": "code",
   "execution_count": 40,
   "metadata": {},
   "outputs": [
    {
     "name": "stdout",
     "output_type": "stream",
     "text": [
      "7     55.032770\n",
      "9     26.975664\n",
      "3     12.021168\n",
      "4      5.618467\n",
      "13     0.351931\n",
      "Name: registered_via, dtype: float64\n"
     ]
    },
    {
     "data": {
      "text/plain": [
       "<matplotlib.axes._subplots.AxesSubplot at 0x1a351e13c8>"
      ]
     },
     "execution_count": 40,
     "metadata": {},
     "output_type": "execute_result"
    },
    {
     "data": {
      "image/png": "[encoded data removed]",
      "text/plain": [
       "<Figure size 432x288 with 1 Axes>"
      ]
     },
     "metadata": {
      "needs_background": "light"
     },
     "output_type": "display_data"
    }
   ],
   "source": [
    "print(df_member.registered_via.value_counts(dropna=False,normalize=True)*100)\n",
    "df_member.registered_via.value_counts(dropna=False,normalize=True).plot(kind='bar')"
   ]
  },
  {
   "cell_type": "code",
   "execution_count": 41,
   "metadata": {},
   "outputs": [
    {
     "data": {
      "text/plain": [
       "registered_via  is_churn\n",
       "3               0           0.872910\n",
       "                1           0.127090\n",
       "4               0           0.817442\n",
       "                1           0.182558\n",
       "7               0           0.969840\n",
       "                1           0.030160\n",
       "9               0           0.913638\n",
       "                1           0.086362\n",
       "13              0           0.914804\n",
       "                1           0.085196\n",
       "Name: is_churn, dtype: float64"
      ]
     },
     "execution_count": 41,
     "metadata": {},
     "output_type": "execute_result"
    }
   ],
   "source": [
    "reg_via_churn = df_member[['registered_via', 'is_churn']]\n",
    "reg_via_churn = reg_via_churn.groupby('registered_via')['is_churn'].value_counts(dropna=False,normalize=True)\n",
    "reg_via_churn"
   ]
  },
  {
   "cell_type": "code",
   "execution_count": 131,
   "metadata": {},
   "outputs": [
    {
     "data": {
      "text/html": [
       "<div>\n",
       "<style scoped>\n",
       "    .dataframe tbody tr th:only-of-type {\n",
       "        vertical-align: middle;\n",
       "    }\n",
       "\n",
       "    .dataframe tbody tr th {\n",
       "        vertical-align: top;\n",
       "    }\n",
       "\n",
       "    .dataframe thead th {\n",
       "        text-align: right;\n",
       "    }\n",
       "</style>\n",
       "<table border=\"1\" class=\"dataframe\">\n",
       "  <thead>\n",
       "    <tr style=\"text-align: right;\">\n",
       "      <th></th>\n",
       "      <th>msno</th>\n",
       "      <th>is_churn</th>\n",
       "      <th>city</th>\n",
       "      <th>bd</th>\n",
       "      <th>registered_via</th>\n",
       "      <th>registration_init_time</th>\n",
       "      <th>bd_checker</th>\n",
       "      <th>registration_year</th>\n",
       "      <th>registration_month</th>\n",
       "      <th>registration_day</th>\n",
       "      <th>registration_weekday</th>\n",
       "      <th>registration_day_of_week</th>\n",
       "    </tr>\n",
       "  </thead>\n",
       "  <tbody>\n",
       "    <tr>\n",
       "      <th>0</th>\n",
       "      <td>waLDQMmcOu2jLDaV1ddDkgCrB/jl6sD66Xzs0Vqax1Y=</td>\n",
       "      <td>1</td>\n",
       "      <td>999</td>\n",
       "      <td>36</td>\n",
       "      <td>9</td>\n",
       "      <td>2005-04-06</td>\n",
       "      <td>good</td>\n",
       "      <td>2005</td>\n",
       "      <td>4</td>\n",
       "      <td>6</td>\n",
       "      <td>2</td>\n",
       "      <td>Wednesday</td>\n",
       "    </tr>\n",
       "    <tr>\n",
       "      <th>1</th>\n",
       "      <td>QA7uiXy8vIbUSPOkCf9RwQ3FsT8jVq2OxDr8zqa7bRQ=</td>\n",
       "      <td>1</td>\n",
       "      <td>999</td>\n",
       "      <td>38</td>\n",
       "      <td>9</td>\n",
       "      <td>2005-04-07</td>\n",
       "      <td>good</td>\n",
       "      <td>2005</td>\n",
       "      <td>4</td>\n",
       "      <td>7</td>\n",
       "      <td>3</td>\n",
       "      <td>Thursday</td>\n",
       "    </tr>\n",
       "    <tr>\n",
       "      <th>2</th>\n",
       "      <td>fGwBva6hikQmTJzrbz/2Ezjm5Cth5jZUNvXigKK2AFA=</td>\n",
       "      <td>1</td>\n",
       "      <td>999</td>\n",
       "      <td>27</td>\n",
       "      <td>9</td>\n",
       "      <td>2005-10-16</td>\n",
       "      <td>good</td>\n",
       "      <td>2005</td>\n",
       "      <td>10</td>\n",
       "      <td>16</td>\n",
       "      <td>6</td>\n",
       "      <td>Sunday</td>\n",
       "    </tr>\n",
       "    <tr>\n",
       "      <th>3</th>\n",
       "      <td>mT5V8rEpa+8wuqi6x0DoVd3H5icMKkE9Prt49UlmK+4=</td>\n",
       "      <td>1</td>\n",
       "      <td>13</td>\n",
       "      <td>23</td>\n",
       "      <td>9</td>\n",
       "      <td>2005-11-02</td>\n",
       "      <td>good</td>\n",
       "      <td>2005</td>\n",
       "      <td>11</td>\n",
       "      <td>2</td>\n",
       "      <td>2</td>\n",
       "      <td>Wednesday</td>\n",
       "    </tr>\n",
       "    <tr>\n",
       "      <th>4</th>\n",
       "      <td>XaPhtGLk/5UvvOYHcONTwsnH97P4eGECeq+BARGItRw=</td>\n",
       "      <td>1</td>\n",
       "      <td>999</td>\n",
       "      <td>27</td>\n",
       "      <td>9</td>\n",
       "      <td>2005-12-28</td>\n",
       "      <td>good</td>\n",
       "      <td>2005</td>\n",
       "      <td>12</td>\n",
       "      <td>28</td>\n",
       "      <td>2</td>\n",
       "      <td>Wednesday</td>\n",
       "    </tr>\n",
       "  </tbody>\n",
       "</table>\n",
       "</div>"
      ],
      "text/plain": [
       "                                           msno  is_churn  city  bd  \\\n",
       "0  waLDQMmcOu2jLDaV1ddDkgCrB/jl6sD66Xzs0Vqax1Y=         1   999  36   \n",
       "1  QA7uiXy8vIbUSPOkCf9RwQ3FsT8jVq2OxDr8zqa7bRQ=         1   999  38   \n",
       "2  fGwBva6hikQmTJzrbz/2Ezjm5Cth5jZUNvXigKK2AFA=         1   999  27   \n",
       "3  mT5V8rEpa+8wuqi6x0DoVd3H5icMKkE9Prt49UlmK+4=         1    13  23   \n",
       "4  XaPhtGLk/5UvvOYHcONTwsnH97P4eGECeq+BARGItRw=         1   999  27   \n",
       "\n",
       "   registered_via registration_init_time bd_checker  registration_year  \\\n",
       "0               9             2005-04-06       good               2005   \n",
       "1               9             2005-04-07       good               2005   \n",
       "2               9             2005-10-16       good               2005   \n",
       "3               9             2005-11-02       good               2005   \n",
       "4               9             2005-12-28       good               2005   \n",
       "\n",
       "   registration_month  registration_day  registration_weekday  \\\n",
       "0                   4                 6                     2   \n",
       "1                   4                 7                     3   \n",
       "2                  10                16                     6   \n",
       "3                  11                 2                     2   \n",
       "4                  12                28                     2   \n",
       "\n",
       "  registration_day_of_week  \n",
       "0                Wednesday  \n",
       "1                 Thursday  \n",
       "2                   Sunday  \n",
       "3                Wednesday  \n",
       "4                Wednesday  "
      ]
     },
     "execution_count": 131,
     "metadata": {},
     "output_type": "execute_result"
    }
   ],
   "source": [
    "df_member.head()"
   ]
  },
  {
   "cell_type": "code",
   "execution_count": 132,
   "metadata": {},
   "outputs": [
    {
     "name": "stdout",
     "output_type": "stream",
     "text": [
      "<class 'pandas.core.frame.DataFrame'>\n",
      "Int64Index: 877161 entries, 0 to 877160\n",
      "Data columns (total 12 columns):\n",
      "msno                        877161 non-null object\n",
      "is_churn                    877161 non-null int64\n",
      "city                        877161 non-null int64\n",
      "bd                          877161 non-null int64\n",
      "registered_via              877161 non-null int64\n",
      "registration_init_time      877161 non-null datetime64[ns]\n",
      "bd_checker                  877161 non-null object\n",
      "registration_year           877161 non-null int64\n",
      "registration_month          877161 non-null int64\n",
      "registration_day            877161 non-null int64\n",
      "registration_weekday        877161 non-null int64\n",
      "registration_day_of_week    877161 non-null object\n",
      "dtypes: datetime64[ns](1), int64(8), object(3)\n",
      "memory usage: 87.0+ MB\n"
     ]
    }
   ],
   "source": [
    "df_member.info()"
   ]
  },
  {
   "cell_type": "markdown",
   "metadata": {},
   "source": [
    "#### User Logs Data"
   ]
  },
  {
   "cell_type": "code",
   "execution_count": 151,
   "metadata": {},
   "outputs": [
    {
     "name": "stdout",
     "output_type": "stream",
     "text": [
      "(62622030, 10)\n"
     ]
    },
    {
     "data": {
      "text/html": [
       "<div>\n",
       "<style scoped>\n",
       "    .dataframe tbody tr th:only-of-type {\n",
       "        vertical-align: middle;\n",
       "    }\n",
       "\n",
       "    .dataframe tbody tr th {\n",
       "        vertical-align: top;\n",
       "    }\n",
       "\n",
       "    .dataframe thead th {\n",
       "        text-align: right;\n",
       "    }\n",
       "</style>\n",
       "<table border=\"1\" class=\"dataframe\">\n",
       "  <thead>\n",
       "    <tr style=\"text-align: right;\">\n",
       "      <th></th>\n",
       "      <th>msno</th>\n",
       "      <th>is_churn</th>\n",
       "      <th>date</th>\n",
       "      <th>num_25</th>\n",
       "      <th>num_50</th>\n",
       "      <th>num_75</th>\n",
       "      <th>num_985</th>\n",
       "      <th>num_100</th>\n",
       "      <th>num_unq</th>\n",
       "      <th>total_secs</th>\n",
       "    </tr>\n",
       "  </thead>\n",
       "  <tbody>\n",
       "    <tr>\n",
       "      <th>0</th>\n",
       "      <td>waLDQMmcOu2jLDaV1ddDkgCrB/jl6sD66Xzs0Vqax1Y=</td>\n",
       "      <td>1</td>\n",
       "      <td>20170122</td>\n",
       "      <td>5</td>\n",
       "      <td>2</td>\n",
       "      <td>2</td>\n",
       "      <td>0</td>\n",
       "      <td>21</td>\n",
       "      <td>26</td>\n",
       "      <td>6178.814</td>\n",
       "    </tr>\n",
       "    <tr>\n",
       "      <th>1</th>\n",
       "      <td>waLDQMmcOu2jLDaV1ddDkgCrB/jl6sD66Xzs0Vqax1Y=</td>\n",
       "      <td>1</td>\n",
       "      <td>20170124</td>\n",
       "      <td>0</td>\n",
       "      <td>0</td>\n",
       "      <td>0</td>\n",
       "      <td>0</td>\n",
       "      <td>8</td>\n",
       "      <td>8</td>\n",
       "      <td>2232.821</td>\n",
       "    </tr>\n",
       "    <tr>\n",
       "      <th>2</th>\n",
       "      <td>waLDQMmcOu2jLDaV1ddDkgCrB/jl6sD66Xzs0Vqax1Y=</td>\n",
       "      <td>1</td>\n",
       "      <td>20170126</td>\n",
       "      <td>1</td>\n",
       "      <td>0</td>\n",
       "      <td>0</td>\n",
       "      <td>0</td>\n",
       "      <td>16</td>\n",
       "      <td>17</td>\n",
       "      <td>4474.698</td>\n",
       "    </tr>\n",
       "    <tr>\n",
       "      <th>3</th>\n",
       "      <td>waLDQMmcOu2jLDaV1ddDkgCrB/jl6sD66Xzs0Vqax1Y=</td>\n",
       "      <td>1</td>\n",
       "      <td>20170127</td>\n",
       "      <td>0</td>\n",
       "      <td>0</td>\n",
       "      <td>1</td>\n",
       "      <td>1</td>\n",
       "      <td>29</td>\n",
       "      <td>31</td>\n",
       "      <td>7443.091</td>\n",
       "    </tr>\n",
       "    <tr>\n",
       "      <th>4</th>\n",
       "      <td>waLDQMmcOu2jLDaV1ddDkgCrB/jl6sD66Xzs0Vqax1Y=</td>\n",
       "      <td>1</td>\n",
       "      <td>20170129</td>\n",
       "      <td>3</td>\n",
       "      <td>1</td>\n",
       "      <td>0</td>\n",
       "      <td>0</td>\n",
       "      <td>19</td>\n",
       "      <td>23</td>\n",
       "      <td>4817.478</td>\n",
       "    </tr>\n",
       "  </tbody>\n",
       "</table>\n",
       "</div>"
      ],
      "text/plain": [
       "                                           msno  is_churn      date  num_25  \\\n",
       "0  waLDQMmcOu2jLDaV1ddDkgCrB/jl6sD66Xzs0Vqax1Y=         1  20170122       5   \n",
       "1  waLDQMmcOu2jLDaV1ddDkgCrB/jl6sD66Xzs0Vqax1Y=         1  20170124       0   \n",
       "2  waLDQMmcOu2jLDaV1ddDkgCrB/jl6sD66Xzs0Vqax1Y=         1  20170126       1   \n",
       "3  waLDQMmcOu2jLDaV1ddDkgCrB/jl6sD66Xzs0Vqax1Y=         1  20170127       0   \n",
       "4  waLDQMmcOu2jLDaV1ddDkgCrB/jl6sD66Xzs0Vqax1Y=         1  20170129       3   \n",
       "\n",
       "   num_50  num_75  num_985  num_100  num_unq  total_secs  \n",
       "0       2       2        0       21       26    6178.814  \n",
       "1       0       0        0        8        8    2232.821  \n",
       "2       0       0        0       16       17    4474.698  \n",
       "3       0       1        1       29       31    7443.091  \n",
       "4       1       0        0       19       23    4817.478  "
      ]
     },
     "execution_count": 151,
     "metadata": {},
     "output_type": "execute_result"
    }
   ],
   "source": [
    "df_log= pd.merge(left = train,right = user_logs,how = 'inner',on=['msno'])\n",
    "print(df_log.shape)\n",
    "df_log.head()"
   ]
  },
  {
   "cell_type": "code",
   "execution_count": 152,
   "metadata": {},
   "outputs": [
    {
     "name": "stdout",
     "output_type": "stream",
     "text": [
      "(62622030, 10)\n"
     ]
    },
    {
     "data": {
      "text/html": [
       "<div>\n",
       "<style scoped>\n",
       "    .dataframe tbody tr th:only-of-type {\n",
       "        vertical-align: middle;\n",
       "    }\n",
       "\n",
       "    .dataframe tbody tr th {\n",
       "        vertical-align: top;\n",
       "    }\n",
       "\n",
       "    .dataframe thead th {\n",
       "        text-align: right;\n",
       "    }\n",
       "</style>\n",
       "<table border=\"1\" class=\"dataframe\">\n",
       "  <thead>\n",
       "    <tr style=\"text-align: right;\">\n",
       "      <th></th>\n",
       "      <th>msno</th>\n",
       "      <th>is_churn</th>\n",
       "      <th>date</th>\n",
       "      <th>num_25</th>\n",
       "      <th>num_50</th>\n",
       "      <th>num_75</th>\n",
       "      <th>num_985</th>\n",
       "      <th>num_100</th>\n",
       "      <th>num_unq</th>\n",
       "      <th>total_secs</th>\n",
       "    </tr>\n",
       "  </thead>\n",
       "  <tbody>\n",
       "    <tr>\n",
       "      <th>0</th>\n",
       "      <td>waLDQMmcOu2jLDaV1ddDkgCrB/jl6sD66Xzs0Vqax1Y=</td>\n",
       "      <td>1</td>\n",
       "      <td>20170122</td>\n",
       "      <td>5</td>\n",
       "      <td>2</td>\n",
       "      <td>2</td>\n",
       "      <td>0</td>\n",
       "      <td>21</td>\n",
       "      <td>26</td>\n",
       "      <td>6178.814</td>\n",
       "    </tr>\n",
       "    <tr>\n",
       "      <th>1</th>\n",
       "      <td>waLDQMmcOu2jLDaV1ddDkgCrB/jl6sD66Xzs0Vqax1Y=</td>\n",
       "      <td>1</td>\n",
       "      <td>20170124</td>\n",
       "      <td>0</td>\n",
       "      <td>0</td>\n",
       "      <td>0</td>\n",
       "      <td>0</td>\n",
       "      <td>8</td>\n",
       "      <td>8</td>\n",
       "      <td>2232.821</td>\n",
       "    </tr>\n",
       "    <tr>\n",
       "      <th>2</th>\n",
       "      <td>waLDQMmcOu2jLDaV1ddDkgCrB/jl6sD66Xzs0Vqax1Y=</td>\n",
       "      <td>1</td>\n",
       "      <td>20170126</td>\n",
       "      <td>1</td>\n",
       "      <td>0</td>\n",
       "      <td>0</td>\n",
       "      <td>0</td>\n",
       "      <td>16</td>\n",
       "      <td>17</td>\n",
       "      <td>4474.698</td>\n",
       "    </tr>\n",
       "    <tr>\n",
       "      <th>3</th>\n",
       "      <td>waLDQMmcOu2jLDaV1ddDkgCrB/jl6sD66Xzs0Vqax1Y=</td>\n",
       "      <td>1</td>\n",
       "      <td>20170127</td>\n",
       "      <td>0</td>\n",
       "      <td>0</td>\n",
       "      <td>1</td>\n",
       "      <td>1</td>\n",
       "      <td>29</td>\n",
       "      <td>31</td>\n",
       "      <td>7443.091</td>\n",
       "    </tr>\n",
       "    <tr>\n",
       "      <th>4</th>\n",
       "      <td>waLDQMmcOu2jLDaV1ddDkgCrB/jl6sD66Xzs0Vqax1Y=</td>\n",
       "      <td>1</td>\n",
       "      <td>20170129</td>\n",
       "      <td>3</td>\n",
       "      <td>1</td>\n",
       "      <td>0</td>\n",
       "      <td>0</td>\n",
       "      <td>19</td>\n",
       "      <td>23</td>\n",
       "      <td>4817.478</td>\n",
       "    </tr>\n",
       "  </tbody>\n",
       "</table>\n",
       "</div>"
      ],
      "text/plain": [
       "                                           msno  is_churn      date  num_25  \\\n",
       "0  waLDQMmcOu2jLDaV1ddDkgCrB/jl6sD66Xzs0Vqax1Y=         1  20170122       5   \n",
       "1  waLDQMmcOu2jLDaV1ddDkgCrB/jl6sD66Xzs0Vqax1Y=         1  20170124       0   \n",
       "2  waLDQMmcOu2jLDaV1ddDkgCrB/jl6sD66Xzs0Vqax1Y=         1  20170126       1   \n",
       "3  waLDQMmcOu2jLDaV1ddDkgCrB/jl6sD66Xzs0Vqax1Y=         1  20170127       0   \n",
       "4  waLDQMmcOu2jLDaV1ddDkgCrB/jl6sD66Xzs0Vqax1Y=         1  20170129       3   \n",
       "\n",
       "   num_50  num_75  num_985  num_100  num_unq  total_secs  \n",
       "0       2       2        0       21       26    6178.814  \n",
       "1       0       0        0        8        8    2232.821  \n",
       "2       0       0        0       16       17    4474.698  \n",
       "3       0       1        1       29       31    7443.091  \n",
       "4       1       0        0       19       23    4817.478  "
      ]
     },
     "execution_count": 152,
     "metadata": {},
     "output_type": "execute_result"
    }
   ],
   "source": [
    "print(df_log.shape)\n",
    "df_log.head()"
   ]
  },
  {
   "cell_type": "code",
   "execution_count": 153,
   "metadata": {},
   "outputs": [
    {
     "name": "stdout",
     "output_type": "stream",
     "text": [
      "<class 'pandas.core.frame.DataFrame'>\n",
      "Int64Index: 62622030 entries, 0 to 62622029\n",
      "Data columns (total 10 columns):\n",
      "msno          object\n",
      "is_churn      int64\n",
      "date          int64\n",
      "num_25        int64\n",
      "num_50        int64\n",
      "num_75        int64\n",
      "num_985       int64\n",
      "num_100       int64\n",
      "num_unq       int64\n",
      "total_secs    float64\n",
      "dtypes: float64(1), int64(8), object(1)\n",
      "memory usage: 5.1+ GB\n"
     ]
    }
   ],
   "source": [
    "df_log.info()"
   ]
  },
  {
   "cell_type": "code",
   "execution_count": 154,
   "metadata": {},
   "outputs": [],
   "source": [
    "df_log['date'] = pd.to_datetime(df_log['date'], format='%Y%m%d')\n",
    "df_log['weekday']= df_log.date.dt.day_name()\n",
    "df_log['day_of_week']= df_log.date.dt.weekday\n",
    "df_log['year']= df_log.date.dt.year\n",
    "df_log['month']= df_log.date.dt.month\n"
   ]
  },
  {
   "cell_type": "code",
   "execution_count": 155,
   "metadata": {},
   "outputs": [
    {
     "data": {
      "text/html": [
       "<div>\n",
       "<style scoped>\n",
       "    .dataframe tbody tr th:only-of-type {\n",
       "        vertical-align: middle;\n",
       "    }\n",
       "\n",
       "    .dataframe tbody tr th {\n",
       "        vertical-align: top;\n",
       "    }\n",
       "\n",
       "    .dataframe thead th {\n",
       "        text-align: right;\n",
       "    }\n",
       "</style>\n",
       "<table border=\"1\" class=\"dataframe\">\n",
       "  <thead>\n",
       "    <tr style=\"text-align: right;\">\n",
       "      <th></th>\n",
       "      <th>msno</th>\n",
       "      <th>is_churn</th>\n",
       "      <th>date</th>\n",
       "      <th>num_25</th>\n",
       "      <th>num_50</th>\n",
       "      <th>num_75</th>\n",
       "      <th>num_985</th>\n",
       "      <th>num_100</th>\n",
       "      <th>num_unq</th>\n",
       "      <th>total_secs</th>\n",
       "      <th>weekday</th>\n",
       "      <th>day_of_week</th>\n",
       "      <th>year</th>\n",
       "      <th>month</th>\n",
       "    </tr>\n",
       "  </thead>\n",
       "  <tbody>\n",
       "    <tr>\n",
       "      <th>0</th>\n",
       "      <td>waLDQMmcOu2jLDaV1ddDkgCrB/jl6sD66Xzs0Vqax1Y=</td>\n",
       "      <td>1</td>\n",
       "      <td>2017-01-22</td>\n",
       "      <td>5</td>\n",
       "      <td>2</td>\n",
       "      <td>2</td>\n",
       "      <td>0</td>\n",
       "      <td>21</td>\n",
       "      <td>26</td>\n",
       "      <td>6178.814</td>\n",
       "      <td>Sunday</td>\n",
       "      <td>6</td>\n",
       "      <td>2017</td>\n",
       "      <td>1</td>\n",
       "    </tr>\n",
       "    <tr>\n",
       "      <th>1</th>\n",
       "      <td>waLDQMmcOu2jLDaV1ddDkgCrB/jl6sD66Xzs0Vqax1Y=</td>\n",
       "      <td>1</td>\n",
       "      <td>2017-01-24</td>\n",
       "      <td>0</td>\n",
       "      <td>0</td>\n",
       "      <td>0</td>\n",
       "      <td>0</td>\n",
       "      <td>8</td>\n",
       "      <td>8</td>\n",
       "      <td>2232.821</td>\n",
       "      <td>Tuesday</td>\n",
       "      <td>1</td>\n",
       "      <td>2017</td>\n",
       "      <td>1</td>\n",
       "    </tr>\n",
       "    <tr>\n",
       "      <th>2</th>\n",
       "      <td>waLDQMmcOu2jLDaV1ddDkgCrB/jl6sD66Xzs0Vqax1Y=</td>\n",
       "      <td>1</td>\n",
       "      <td>2017-01-26</td>\n",
       "      <td>1</td>\n",
       "      <td>0</td>\n",
       "      <td>0</td>\n",
       "      <td>0</td>\n",
       "      <td>16</td>\n",
       "      <td>17</td>\n",
       "      <td>4474.698</td>\n",
       "      <td>Thursday</td>\n",
       "      <td>3</td>\n",
       "      <td>2017</td>\n",
       "      <td>1</td>\n",
       "    </tr>\n",
       "    <tr>\n",
       "      <th>3</th>\n",
       "      <td>waLDQMmcOu2jLDaV1ddDkgCrB/jl6sD66Xzs0Vqax1Y=</td>\n",
       "      <td>1</td>\n",
       "      <td>2017-01-27</td>\n",
       "      <td>0</td>\n",
       "      <td>0</td>\n",
       "      <td>1</td>\n",
       "      <td>1</td>\n",
       "      <td>29</td>\n",
       "      <td>31</td>\n",
       "      <td>7443.091</td>\n",
       "      <td>Friday</td>\n",
       "      <td>4</td>\n",
       "      <td>2017</td>\n",
       "      <td>1</td>\n",
       "    </tr>\n",
       "    <tr>\n",
       "      <th>4</th>\n",
       "      <td>waLDQMmcOu2jLDaV1ddDkgCrB/jl6sD66Xzs0Vqax1Y=</td>\n",
       "      <td>1</td>\n",
       "      <td>2017-01-29</td>\n",
       "      <td>3</td>\n",
       "      <td>1</td>\n",
       "      <td>0</td>\n",
       "      <td>0</td>\n",
       "      <td>19</td>\n",
       "      <td>23</td>\n",
       "      <td>4817.478</td>\n",
       "      <td>Sunday</td>\n",
       "      <td>6</td>\n",
       "      <td>2017</td>\n",
       "      <td>1</td>\n",
       "    </tr>\n",
       "  </tbody>\n",
       "</table>\n",
       "</div>"
      ],
      "text/plain": [
       "                                           msno  is_churn       date  num_25  \\\n",
       "0  waLDQMmcOu2jLDaV1ddDkgCrB/jl6sD66Xzs0Vqax1Y=         1 2017-01-22       5   \n",
       "1  waLDQMmcOu2jLDaV1ddDkgCrB/jl6sD66Xzs0Vqax1Y=         1 2017-01-24       0   \n",
       "2  waLDQMmcOu2jLDaV1ddDkgCrB/jl6sD66Xzs0Vqax1Y=         1 2017-01-26       1   \n",
       "3  waLDQMmcOu2jLDaV1ddDkgCrB/jl6sD66Xzs0Vqax1Y=         1 2017-01-27       0   \n",
       "4  waLDQMmcOu2jLDaV1ddDkgCrB/jl6sD66Xzs0Vqax1Y=         1 2017-01-29       3   \n",
       "\n",
       "   num_50  num_75  num_985  num_100  num_unq  total_secs   weekday  \\\n",
       "0       2       2        0       21       26    6178.814    Sunday   \n",
       "1       0       0        0        8        8    2232.821   Tuesday   \n",
       "2       0       0        0       16       17    4474.698  Thursday   \n",
       "3       0       1        1       29       31    7443.091    Friday   \n",
       "4       1       0        0       19       23    4817.478    Sunday   \n",
       "\n",
       "   day_of_week  year  month  \n",
       "0            6  2017      1  \n",
       "1            1  2017      1  \n",
       "2            3  2017      1  \n",
       "3            4  2017      1  \n",
       "4            6  2017      1  "
      ]
     },
     "execution_count": 155,
     "metadata": {},
     "output_type": "execute_result"
    }
   ],
   "source": [
    "df_log.head()"
   ]
  },
  {
   "cell_type": "code",
   "execution_count": 156,
   "metadata": {},
   "outputs": [
    {
     "data": {
      "text/plain": [
       "<matplotlib.axes._subplots.AxesSubplot at 0x1bec61a550>"
      ]
     },
     "execution_count": 156,
     "metadata": {},
     "output_type": "execute_result"
    },
    {
     "data": {
      "image/png": "[encoded data removed]",
      "text/plain": [
       "<Figure size 1152x360 with 1 Axes>"
      ]
     },
     "metadata": {
      "needs_background": "light"
     },
     "output_type": "display_data"
    }
   ],
   "source": [
    "# graph overall song use by date\n",
    "gr=df_log.groupby(pd.Grouper(key='date', freq='D')).mean()\n",
    "gr.plot.line(y=['num_25','num_50','num_75','num_985','num_100'],figsize=(16, 5))"
   ]
  },
  {
   "cell_type": "code",
   "execution_count": 157,
   "metadata": {},
   "outputs": [],
   "source": [
    "# majority of songs listened to entirely \n",
    "# spike in listening around jun/jul 2015 otherwise overall listeneing habits are steady"
   ]
  },
  {
   "cell_type": "code",
   "execution_count": 158,
   "metadata": {},
   "outputs": [
    {
     "data": {
      "text/plain": [
       "<matplotlib.axes._subplots.AxesSubplot at 0x1bec73ddd8>"
      ]
     },
     "execution_count": 158,
     "metadata": {},
     "output_type": "execute_result"
    },
    {
     "data": {
      "image/png": "[encoded data removed]",
      "text/plain": [
       "<Figure size 432x288 with 1 Axes>"
      ]
     },
     "metadata": {
      "needs_background": "light"
     },
     "output_type": "display_data"
    }
   ],
   "source": [
    "# graph overall song use by month\n",
    "use_month = pd.DataFrame(df_log.month.value_counts(dropna=False, normalize=True)).reset_index()\n",
    "use_month  = use_month.sort_values(by=['index'])\n",
    "use_month.rename(columns={'index':'month', 'month':'freq'}).plot(x='month', y='freq')\n"
   ]
  },
  {
   "cell_type": "code",
   "execution_count": 159,
   "metadata": {},
   "outputs": [],
   "source": [
    "# majority of songs listened to in  Jan/Feb, drops in midlle months of year and slowly increases towords end of year"
   ]
  },
  {
   "cell_type": "code",
   "execution_count": 160,
   "metadata": {},
   "outputs": [
    {
     "data": {
      "text/plain": [
       "<matplotlib.axes._subplots.AxesSubplot at 0x1becbc0748>"
      ]
     },
     "execution_count": 160,
     "metadata": {},
     "output_type": "execute_result"
    },
    {
     "data": {
      "image/png": "[encoded data removed]",
      "text/plain": [
       "<Figure size 432x288 with 1 Axes>"
      ]
     },
     "metadata": {
      "needs_background": "light"
     },
     "output_type": "display_data"
    }
   ],
   "source": [
    "# graph overall song use by day\n",
    "use_day = pd.DataFrame(df_log.day_of_week.value_counts(dropna=False, normalize=True)).reset_index()\n",
    "use_day  = use_day.sort_values(by=['index'])\n",
    "use_day.rename(columns={'index':'day_of_week', 'day_of_week':'freq'}).plot(x='day_of_week', y='freq')"
   ]
  },
  {
   "cell_type": "code",
   "execution_count": 161,
   "metadata": {},
   "outputs": [],
   "source": [
    "# spike during end of week in listening drop on wednesday and saturdays"
   ]
  },
  {
   "cell_type": "code",
   "execution_count": 162,
   "metadata": {},
   "outputs": [],
   "source": [
    "# song history\n",
    "df_log['total_songs'] = df_log['num_25']+df_log['num_50']+df_log['num_75']+df_log['num_985']+df_log['num_100']\n",
    "df_log['songs_repeated'] = df_log['total_songs'] - df_log['num_unq']\n"
   ]
  },
  {
   "cell_type": "code",
   "execution_count": 163,
   "metadata": {},
   "outputs": [
    {
     "data": {
      "text/html": [
       "<div>\n",
       "<style scoped>\n",
       "    .dataframe tbody tr th:only-of-type {\n",
       "        vertical-align: middle;\n",
       "    }\n",
       "\n",
       "    .dataframe tbody tr th {\n",
       "        vertical-align: top;\n",
       "    }\n",
       "\n",
       "    .dataframe thead th {\n",
       "        text-align: right;\n",
       "    }\n",
       "</style>\n",
       "<table border=\"1\" class=\"dataframe\">\n",
       "  <thead>\n",
       "    <tr style=\"text-align: right;\">\n",
       "      <th></th>\n",
       "      <th>msno</th>\n",
       "      <th>days_listened</th>\n",
       "    </tr>\n",
       "  </thead>\n",
       "  <tbody>\n",
       "    <tr>\n",
       "      <th>0</th>\n",
       "      <td>+++hVY1rZox/33YtvDgmKA2Frg/2qhkz12B9ylCvh8o=</td>\n",
       "      <td>26</td>\n",
       "    </tr>\n",
       "    <tr>\n",
       "      <th>1</th>\n",
       "      <td>+++l/EXNMLTijfLBa8p2TUVVVp2aFGSuUI/h7mLmthw=</td>\n",
       "      <td>144</td>\n",
       "    </tr>\n",
       "    <tr>\n",
       "      <th>2</th>\n",
       "      <td>+++snpr7pmobhLKUgSHTv/mpkqgBT0tQJ0zQj6qKrqc=</td>\n",
       "      <td>144</td>\n",
       "    </tr>\n",
       "    <tr>\n",
       "      <th>3</th>\n",
       "      <td>++/9R3sX37CjxbY/AaGvbwr3QkwElKBCtSvVzhCBDOk=</td>\n",
       "      <td>78</td>\n",
       "    </tr>\n",
       "    <tr>\n",
       "      <th>4</th>\n",
       "      <td>++/UDNo9DLrxT8QVGiDi1OnWfczAdEwThaVyD0fXO50=</td>\n",
       "      <td>117</td>\n",
       "    </tr>\n",
       "  </tbody>\n",
       "</table>\n",
       "</div>"
      ],
      "text/plain": [
       "                                           msno  days_listened\n",
       "0  +++hVY1rZox/33YtvDgmKA2Frg/2qhkz12B9ylCvh8o=             26\n",
       "1  +++l/EXNMLTijfLBa8p2TUVVVp2aFGSuUI/h7mLmthw=            144\n",
       "2  +++snpr7pmobhLKUgSHTv/mpkqgBT0tQJ0zQj6qKrqc=            144\n",
       "3  ++/9R3sX37CjxbY/AaGvbwr3QkwElKBCtSvVzhCBDOk=             78\n",
       "4  ++/UDNo9DLrxT8QVGiDi1OnWfczAdEwThaVyD0fXO50=            117"
      ]
     },
     "execution_count": 163,
     "metadata": {},
     "output_type": "execute_result"
    }
   ],
   "source": [
    "# calculate how many days member listened to songs\n",
    "days = df_log.groupby('msno')['total_secs'].count().reset_index()\n",
    "days.columns = ['msno', 'days_listened']\n",
    "days.head()"
   ]
  },
  {
   "cell_type": "code",
   "execution_count": 164,
   "metadata": {},
   "outputs": [
    {
     "data": {
      "text/plain": [
       "13     48730\n",
       "26     37199\n",
       "39     32605\n",
       "52     28436\n",
       "65     25478\n",
       "78     23613\n",
       "91     21811\n",
       "104    19980\n",
       "12     19858\n",
       "156    19848\n",
       "117    18221\n",
       "130    16771\n",
       "143    15941\n",
       "24     15171\n",
       "169    14594\n",
       "182    13469\n",
       "36     12912\n",
       "48     11499\n",
       "195    10768\n",
       "60     10173\n",
       "72      9574\n",
       "84      8726\n",
       "96      8049\n",
       "1       7275\n",
       "108     7268\n",
       "120     6851\n",
       "132     6331\n",
       "2       6327\n",
       "144     5974\n",
       "3       5836\n",
       "       ...  \n",
       "171     1092\n",
       "175     1092\n",
       "173     1088\n",
       "177     1055\n",
       "176     1044\n",
       "179     1044\n",
       "181     1002\n",
       "183      967\n",
       "187      916\n",
       "189      913\n",
       "185      904\n",
       "184      889\n",
       "188      870\n",
       "186      848\n",
       "190      844\n",
       "191      819\n",
       "193      710\n",
       "194      679\n",
       "197      534\n",
       "196      533\n",
       "198      528\n",
       "199      487\n",
       "200      475\n",
       "202      426\n",
       "201      414\n",
       "203      402\n",
       "205      367\n",
       "204      352\n",
       "206      324\n",
       "207      301\n",
       "Name: days_listened, Length: 208, dtype: int64"
      ]
     },
     "execution_count": 164,
     "metadata": {},
     "output_type": "execute_result"
    }
   ],
   "source": [
    "days.days_listened.value_counts()"
   ]
  },
  {
   "cell_type": "code",
   "execution_count": 165,
   "metadata": {},
   "outputs": [],
   "source": [
    "def listen_checker(row):\n",
    "    if (row['days_listened'] > 0) & (row['days_listened'] < 20) :\n",
    "        return '0-19'\n",
    "    if (row['days_listened'] >= 20) & (row['days_listened'] < 40) :\n",
    "        return '20-39'\n",
    "    if (row['days_listened'] >= 40) & (row['days_listened'] < 60) :\n",
    "        return '40-59'\n",
    "    if (row['days_listened'] >= 60) & (row['days_listened'] < 80) :\n",
    "        return '60-79'\n",
    "    if (row['days_listened'] >= 80) & (row['days_listened'] < 100) :\n",
    "        return '80-99'\n",
    "    if (row['days_listened'] >= 100) & (row['days_listened'] < 120) :\n",
    "        return '100-119'\n",
    "    if (row['days_listened'] >= 120) & (row['days_listened'] < 140) :\n",
    "        return '120-39'\n",
    "    if (row['days_listened'] >= 140) & (row['days_listened'] < 160) :\n",
    "        return '140-159'\n",
    "    if (row['days_listened'] >= 160) & (row['days_listened'] < 180) :\n",
    "        return '160-179'\n",
    "    if (row['days_listened'] >= 180) & (row['days_listened'] < 200) :\n",
    "        return '180-199'\n",
    "    else:\n",
    "        return '200+'"
   ]
  },
  {
   "cell_type": "code",
   "execution_count": 166,
   "metadata": {},
   "outputs": [],
   "source": [
    "days['listen_checker']= days.apply (lambda row: listen_checker(row), axis=1)"
   ]
  },
  {
   "cell_type": "code",
   "execution_count": 167,
   "metadata": {},
   "outputs": [
    {
     "name": "stdout",
     "output_type": "stream",
     "text": [
      "0-19       18.047404\n",
      "20-39      17.666688\n",
      "60-79      12.279793\n",
      "40-59      10.015559\n",
      "100-119     8.751305\n",
      "80-99       8.332431\n",
      "140-159     7.693103\n",
      "120-39      6.448297\n",
      "180-199     5.229341\n",
      "160-179     4.937987\n",
      "200+        0.598093\n",
      "Name: listen_checker, dtype: float64\n"
     ]
    },
    {
     "data": {
      "text/plain": [
       "listen_checker  is_churn\n",
       "0-19            0           0.916335\n",
       "                1           0.083665\n",
       "100-119         0           0.943134\n",
       "                1           0.056866\n",
       "120-39          0           0.945903\n",
       "                1           0.054097\n",
       "140-159         0           0.949984\n",
       "                1           0.050016\n",
       "160-179         0           0.955804\n",
       "                1           0.044196\n",
       "180-199         0           0.959396\n",
       "                1           0.040604\n",
       "20-39           0           0.926885\n",
       "                1           0.073115\n",
       "200+            0           0.967277\n",
       "                1           0.032723\n",
       "40-59           0           0.933303\n",
       "                1           0.066697\n",
       "60-79           0           0.934705\n",
       "                1           0.065295\n",
       "80-99           0           0.935356\n",
       "                1           0.064644\n",
       "Name: is_churn, dtype: float64"
      ]
     },
     "execution_count": 167,
     "metadata": {},
     "output_type": "execute_result"
    }
   ],
   "source": [
    "print(days.listen_checker.value_counts(dropna=False,normalize=True)*100)\n",
    "days_checker_churn = pd.merge(left = train,right = days,how = 'inner',on=['msno'])\n",
    "days_checker_churn = days_checker_churn.groupby('listen_checker')['is_churn'].value_counts(dropna=False,normalize=True)\n",
    "days_checker_churn\n",
    "\n",
    "\n"
   ]
  },
  {
   "cell_type": "code",
   "execution_count": null,
   "metadata": {},
   "outputs": [],
   "source": []
  },
  {
   "cell_type": "code",
   "execution_count": 168,
   "metadata": {},
   "outputs": [],
   "source": [
    "# drop date and merge data withrest of user log data\n",
    "#df_log.drop(['date','day_of_week','year','month'], axis=1,inplace=True)\n",
    "totals = df_log.groupby('msno').sum().reset_index()\n",
    "logs = totals.merge(days, how='inner', on='msno')\n"
   ]
  },
  {
   "cell_type": "code",
   "execution_count": 169,
   "metadata": {},
   "outputs": [
    {
     "data": {
      "text/html": [
       "<div>\n",
       "<style scoped>\n",
       "    .dataframe tbody tr th:only-of-type {\n",
       "        vertical-align: middle;\n",
       "    }\n",
       "\n",
       "    .dataframe tbody tr th {\n",
       "        vertical-align: top;\n",
       "    }\n",
       "\n",
       "    .dataframe thead th {\n",
       "        text-align: right;\n",
       "    }\n",
       "</style>\n",
       "<table border=\"1\" class=\"dataframe\">\n",
       "  <thead>\n",
       "    <tr style=\"text-align: right;\">\n",
       "      <th></th>\n",
       "      <th>msno</th>\n",
       "      <th>is_churn</th>\n",
       "      <th>num_25</th>\n",
       "      <th>num_50</th>\n",
       "      <th>num_75</th>\n",
       "      <th>num_985</th>\n",
       "      <th>num_100</th>\n",
       "      <th>num_unq</th>\n",
       "      <th>total_secs</th>\n",
       "      <th>day_of_week</th>\n",
       "      <th>year</th>\n",
       "      <th>month</th>\n",
       "      <th>total_songs</th>\n",
       "      <th>songs_repeated</th>\n",
       "      <th>days_listened</th>\n",
       "      <th>listen_checker</th>\n",
       "    </tr>\n",
       "  </thead>\n",
       "  <tbody>\n",
       "    <tr>\n",
       "      <th>0</th>\n",
       "      <td>+++hVY1rZox/33YtvDgmKA2Frg/2qhkz12B9ylCvh8o=</td>\n",
       "      <td>0</td>\n",
       "      <td>154</td>\n",
       "      <td>69</td>\n",
       "      <td>69</td>\n",
       "      <td>146</td>\n",
       "      <td>572</td>\n",
       "      <td>657</td>\n",
       "      <td>187070.571</td>\n",
       "      <td>80</td>\n",
       "      <td>52429</td>\n",
       "      <td>169</td>\n",
       "      <td>1010</td>\n",
       "      <td>353</td>\n",
       "      <td>26</td>\n",
       "      <td>20-39</td>\n",
       "    </tr>\n",
       "    <tr>\n",
       "      <th>1</th>\n",
       "      <td>+++l/EXNMLTijfLBa8p2TUVVVp2aFGSuUI/h7mLmthw=</td>\n",
       "      <td>0</td>\n",
       "      <td>208</td>\n",
       "      <td>79</td>\n",
       "      <td>93</td>\n",
       "      <td>122</td>\n",
       "      <td>3022</td>\n",
       "      <td>3000</td>\n",
       "      <td>795861.753</td>\n",
       "      <td>438</td>\n",
       "      <td>290268</td>\n",
       "      <td>987</td>\n",
       "      <td>3524</td>\n",
       "      <td>524</td>\n",
       "      <td>144</td>\n",
       "      <td>140-159</td>\n",
       "    </tr>\n",
       "    <tr>\n",
       "      <th>2</th>\n",
       "      <td>+++snpr7pmobhLKUgSHTv/mpkqgBT0tQJ0zQj6qKrqc=</td>\n",
       "      <td>0</td>\n",
       "      <td>1728</td>\n",
       "      <td>599</td>\n",
       "      <td>357</td>\n",
       "      <td>335</td>\n",
       "      <td>5890</td>\n",
       "      <td>6152</td>\n",
       "      <td>1670258.040</td>\n",
       "      <td>416</td>\n",
       "      <td>290229</td>\n",
       "      <td>839</td>\n",
       "      <td>8909</td>\n",
       "      <td>2757</td>\n",
       "      <td>144</td>\n",
       "      <td>140-159</td>\n",
       "    </tr>\n",
       "    <tr>\n",
       "      <th>3</th>\n",
       "      <td>++/9R3sX37CjxbY/AaGvbwr3QkwElKBCtSvVzhCBDOk=</td>\n",
       "      <td>0</td>\n",
       "      <td>416</td>\n",
       "      <td>152</td>\n",
       "      <td>108</td>\n",
       "      <td>139</td>\n",
       "      <td>1272</td>\n",
       "      <td>1061</td>\n",
       "      <td>379522.215</td>\n",
       "      <td>249</td>\n",
       "      <td>157261</td>\n",
       "      <td>546</td>\n",
       "      <td>2087</td>\n",
       "      <td>1026</td>\n",
       "      <td>78</td>\n",
       "      <td>60-79</td>\n",
       "    </tr>\n",
       "    <tr>\n",
       "      <th>4</th>\n",
       "      <td>++/UDNo9DLrxT8QVGiDi1OnWfczAdEwThaVyD0fXO50=</td>\n",
       "      <td>0</td>\n",
       "      <td>260</td>\n",
       "      <td>175</td>\n",
       "      <td>69</td>\n",
       "      <td>76</td>\n",
       "      <td>1179</td>\n",
       "      <td>1616</td>\n",
       "      <td>337384.938</td>\n",
       "      <td>332</td>\n",
       "      <td>235833</td>\n",
       "      <td>673</td>\n",
       "      <td>1759</td>\n",
       "      <td>143</td>\n",
       "      <td>117</td>\n",
       "      <td>100-119</td>\n",
       "    </tr>\n",
       "  </tbody>\n",
       "</table>\n",
       "</div>"
      ],
      "text/plain": [
       "                                           msno  is_churn  num_25  num_50  \\\n",
       "0  +++hVY1rZox/33YtvDgmKA2Frg/2qhkz12B9ylCvh8o=         0     154      69   \n",
       "1  +++l/EXNMLTijfLBa8p2TUVVVp2aFGSuUI/h7mLmthw=         0     208      79   \n",
       "2  +++snpr7pmobhLKUgSHTv/mpkqgBT0tQJ0zQj6qKrqc=         0    1728     599   \n",
       "3  ++/9R3sX37CjxbY/AaGvbwr3QkwElKBCtSvVzhCBDOk=         0     416     152   \n",
       "4  ++/UDNo9DLrxT8QVGiDi1OnWfczAdEwThaVyD0fXO50=         0     260     175   \n",
       "\n",
       "   num_75  num_985  num_100  num_unq   total_secs  day_of_week    year  month  \\\n",
       "0      69      146      572      657   187070.571           80   52429    169   \n",
       "1      93      122     3022     3000   795861.753          438  290268    987   \n",
       "2     357      335     5890     6152  1670258.040          416  290229    839   \n",
       "3     108      139     1272     1061   379522.215          249  157261    546   \n",
       "4      69       76     1179     1616   337384.938          332  235833    673   \n",
       "\n",
       "   total_songs  songs_repeated  days_listened listen_checker  \n",
       "0         1010             353             26          20-39  \n",
       "1         3524             524            144        140-159  \n",
       "2         8909            2757            144        140-159  \n",
       "3         2087            1026             78          60-79  \n",
       "4         1759             143            117        100-119  "
      ]
     },
     "execution_count": 169,
     "metadata": {},
     "output_type": "execute_result"
    }
   ],
   "source": [
    "logs.head()"
   ]
  },
  {
   "cell_type": "code",
   "execution_count": 170,
   "metadata": {},
   "outputs": [
    {
     "data": {
      "text/plain": [
       "(812416, 16)"
      ]
     },
     "execution_count": 170,
     "metadata": {},
     "output_type": "execute_result"
    }
   ],
   "source": [
    "logs.shape"
   ]
  },
  {
   "cell_type": "code",
   "execution_count": 340,
   "metadata": {},
   "outputs": [],
   "source": [
    "df_log = logs[['msno','num_unq','total_songs','songs_repeated']]\n",
    "#song_checker= song_checker.groupby(['listen_checker'])\n"
   ]
  },
  {
   "cell_type": "markdown",
   "metadata": {},
   "source": [
    "#### Transaction Data"
   ]
  },
  {
   "cell_type": "code",
   "execution_count": 64,
   "metadata": {},
   "outputs": [],
   "source": [
    "df_transact= pd.merge(left = train,right = transactions,how = 'inner',on=['msno'])\n"
   ]
  },
  {
   "cell_type": "code",
   "execution_count": 65,
   "metadata": {},
   "outputs": [
    {
     "name": "stdout",
     "output_type": "stream",
     "text": [
      "(7371253, 10)\n"
     ]
    },
    {
     "data": {
      "text/html": [
       "<div>\n",
       "<style scoped>\n",
       "    .dataframe tbody tr th:only-of-type {\n",
       "        vertical-align: middle;\n",
       "    }\n",
       "\n",
       "    .dataframe tbody tr th {\n",
       "        vertical-align: top;\n",
       "    }\n",
       "\n",
       "    .dataframe thead th {\n",
       "        text-align: right;\n",
       "    }\n",
       "</style>\n",
       "<table border=\"1\" class=\"dataframe\">\n",
       "  <thead>\n",
       "    <tr style=\"text-align: right;\">\n",
       "      <th></th>\n",
       "      <th>msno</th>\n",
       "      <th>is_churn</th>\n",
       "      <th>payment_method_id</th>\n",
       "      <th>payment_plan_days</th>\n",
       "      <th>plan_list_price</th>\n",
       "      <th>actual_amount_paid</th>\n",
       "      <th>is_auto_renew</th>\n",
       "      <th>transaction_date</th>\n",
       "      <th>membership_expire_date</th>\n",
       "      <th>is_cancel</th>\n",
       "    </tr>\n",
       "  </thead>\n",
       "  <tbody>\n",
       "    <tr>\n",
       "      <th>0</th>\n",
       "      <td>waLDQMmcOu2jLDaV1ddDkgCrB/jl6sD66Xzs0Vqax1Y=</td>\n",
       "      <td>1</td>\n",
       "      <td>38</td>\n",
       "      <td>7</td>\n",
       "      <td>0</td>\n",
       "      <td>0</td>\n",
       "      <td>0</td>\n",
       "      <td>20161031</td>\n",
       "      <td>20161107</td>\n",
       "      <td>0</td>\n",
       "    </tr>\n",
       "    <tr>\n",
       "      <th>1</th>\n",
       "      <td>waLDQMmcOu2jLDaV1ddDkgCrB/jl6sD66Xzs0Vqax1Y=</td>\n",
       "      <td>1</td>\n",
       "      <td>38</td>\n",
       "      <td>30</td>\n",
       "      <td>149</td>\n",
       "      <td>149</td>\n",
       "      <td>0</td>\n",
       "      <td>20170107</td>\n",
       "      <td>20170206</td>\n",
       "      <td>0</td>\n",
       "    </tr>\n",
       "    <tr>\n",
       "      <th>2</th>\n",
       "      <td>QA7uiXy8vIbUSPOkCf9RwQ3FsT8jVq2OxDr8zqa7bRQ=</td>\n",
       "      <td>1</td>\n",
       "      <td>39</td>\n",
       "      <td>30</td>\n",
       "      <td>149</td>\n",
       "      <td>149</td>\n",
       "      <td>1</td>\n",
       "      <td>20161031</td>\n",
       "      <td>20161221</td>\n",
       "      <td>0</td>\n",
       "    </tr>\n",
       "    <tr>\n",
       "      <th>3</th>\n",
       "      <td>QA7uiXy8vIbUSPOkCf9RwQ3FsT8jVq2OxDr8zqa7bRQ=</td>\n",
       "      <td>1</td>\n",
       "      <td>39</td>\n",
       "      <td>30</td>\n",
       "      <td>149</td>\n",
       "      <td>149</td>\n",
       "      <td>1</td>\n",
       "      <td>20160715</td>\n",
       "      <td>20160821</td>\n",
       "      <td>0</td>\n",
       "    </tr>\n",
       "    <tr>\n",
       "      <th>4</th>\n",
       "      <td>QA7uiXy8vIbUSPOkCf9RwQ3FsT8jVq2OxDr8zqa7bRQ=</td>\n",
       "      <td>1</td>\n",
       "      <td>39</td>\n",
       "      <td>30</td>\n",
       "      <td>149</td>\n",
       "      <td>149</td>\n",
       "      <td>1</td>\n",
       "      <td>20160831</td>\n",
       "      <td>20161021</td>\n",
       "      <td>0</td>\n",
       "    </tr>\n",
       "  </tbody>\n",
       "</table>\n",
       "</div>"
      ],
      "text/plain": [
       "                                           msno  is_churn  payment_method_id  \\\n",
       "0  waLDQMmcOu2jLDaV1ddDkgCrB/jl6sD66Xzs0Vqax1Y=         1                 38   \n",
       "1  waLDQMmcOu2jLDaV1ddDkgCrB/jl6sD66Xzs0Vqax1Y=         1                 38   \n",
       "2  QA7uiXy8vIbUSPOkCf9RwQ3FsT8jVq2OxDr8zqa7bRQ=         1                 39   \n",
       "3  QA7uiXy8vIbUSPOkCf9RwQ3FsT8jVq2OxDr8zqa7bRQ=         1                 39   \n",
       "4  QA7uiXy8vIbUSPOkCf9RwQ3FsT8jVq2OxDr8zqa7bRQ=         1                 39   \n",
       "\n",
       "   payment_plan_days  plan_list_price  actual_amount_paid  is_auto_renew  \\\n",
       "0                  7                0                   0              0   \n",
       "1                 30              149                 149              0   \n",
       "2                 30              149                 149              1   \n",
       "3                 30              149                 149              1   \n",
       "4                 30              149                 149              1   \n",
       "\n",
       "   transaction_date  membership_expire_date  is_cancel  \n",
       "0          20161031                20161107          0  \n",
       "1          20170107                20170206          0  \n",
       "2          20161031                20161221          0  \n",
       "3          20160715                20160821          0  \n",
       "4          20160831                20161021          0  "
      ]
     },
     "execution_count": 65,
     "metadata": {},
     "output_type": "execute_result"
    }
   ],
   "source": [
    "print(df_transact.shape)\n",
    "df_transact.head()"
   ]
  },
  {
   "cell_type": "code",
   "execution_count": 66,
   "metadata": {},
   "outputs": [
    {
     "name": "stdout",
     "output_type": "stream",
     "text": [
      "<class 'pandas.core.frame.DataFrame'>\n",
      "Int64Index: 7371253 entries, 0 to 7371252\n",
      "Data columns (total 10 columns):\n",
      "msno                      object\n",
      "is_churn                  int64\n",
      "payment_method_id         int64\n",
      "payment_plan_days         int64\n",
      "plan_list_price           int64\n",
      "actual_amount_paid        int64\n",
      "is_auto_renew             int64\n",
      "transaction_date          int64\n",
      "membership_expire_date    int64\n",
      "is_cancel                 int64\n",
      "dtypes: int64(9), object(1)\n",
      "memory usage: 618.6+ MB\n"
     ]
    }
   ],
   "source": [
    "df_transact.info()"
   ]
  },
  {
   "cell_type": "code",
   "execution_count": 67,
   "metadata": {},
   "outputs": [],
   "source": [
    "# convert date columns into date format\n",
    "transactions['transaction_date'] = pd.to_datetime(transactions['transaction_date'], format='%Y%m%d')\n",
    "transactions['membership_expire_date'] = pd.to_datetime(transactions['membership_expire_date'], format='%Y%m%d')"
   ]
  },
  {
   "cell_type": "code",
   "execution_count": 68,
   "metadata": {},
   "outputs": [
    {
     "data": {
      "text/plain": [
       "array([    0,   149,  -149,    30,  -119,  -150,  -129,  -536,  -894,\n",
       "       -1788,  -134,    20,  -799,   120,   180,   -35,    50, -1599,\n",
       "        -100,  -131,  -300,  -480,  -450,    -1, -1000,  -105,     1,\n",
       "        -447, -1200,  -930,   -30,   -50,   699,   -11,  -350,  -500,\n",
       "           4,  -400,   -41,   -14, -2000,   -95])"
      ]
     },
     "execution_count": 68,
     "metadata": {},
     "output_type": "execute_result"
    }
   ],
   "source": [
    "# Are there any differences between plan price and paid price? \n",
    "transactions['discount'] = transactions['plan_list_price'] - transactions['actual_amount_paid']\n",
    "transactions['discount'].unique()"
   ]
  },
  {
   "cell_type": "code",
   "execution_count": 69,
   "metadata": {},
   "outputs": [],
   "source": [
    "# Are there any differences between plan price and paid price? \n",
    "def discounter_cal(row):\n",
    "    if row['plan_list_price'] == 0 :\n",
    "        return 0\n",
    "    if row['actual_amount_paid'] == 0 :\n",
    "        return 0\n",
    "    else:\n",
    "        return row['plan_list_price']-row['actual_amount_paid']\n"
   ]
  },
  {
   "cell_type": "code",
   "execution_count": 70,
   "metadata": {},
   "outputs": [],
   "source": [
    "transactions['price_diff']= transactions.apply (lambda row: discounter_cal(row), axis=1)"
   ]
  },
  {
   "cell_type": "code",
   "execution_count": 71,
   "metadata": {},
   "outputs": [
    {
     "data": {
      "text/plain": [
       "array([  0,  30,  20,  50,  -1,   1, -30, -11,   4, -14, -95])"
      ]
     },
     "execution_count": 71,
     "metadata": {},
     "output_type": "execute_result"
    }
   ],
   "source": [
    "transactions['price_diff'].unique()"
   ]
  },
  {
   "cell_type": "code",
   "execution_count": 72,
   "metadata": {},
   "outputs": [],
   "source": [
    "# 0 = price same, 1 = discount, 2 = paying more than price list\n",
    "def is_discount(row):\n",
    "    if row['price_diff'] == 0 :\n",
    "        return 0\n",
    "    if row['price_diff'] > 0 :\n",
    "        return 1\n",
    "    else:\n",
    "        return 2\n"
   ]
  },
  {
   "cell_type": "code",
   "execution_count": 73,
   "metadata": {},
   "outputs": [],
   "source": [
    "# identify discounted membrships\n",
    "transactions['discount'] = transactions.apply (lambda row: is_discount(row), axis=1)"
   ]
  },
  {
   "cell_type": "code",
   "execution_count": 74,
   "metadata": {},
   "outputs": [
    {
     "data": {
      "text/plain": [
       "0    0.985956\n",
       "1    0.014038\n",
       "2    0.000006\n",
       "Name: discount, dtype: float64"
      ]
     },
     "execution_count": 74,
     "metadata": {},
     "output_type": "execute_result"
    }
   ],
   "source": [
    "# discounted memberships proportions \n",
    "transactions.discount.value_counts(dropna=False,normalize=True)"
   ]
  },
  {
   "cell_type": "code",
   "execution_count": 75,
   "metadata": {},
   "outputs": [],
   "source": [
    "# discount = 2 is so small these members could potentially be dropped most likely erros in the data,\n",
    "#wait and see for now\n"
   ]
  },
  {
   "cell_type": "code",
   "execution_count": 76,
   "metadata": {},
   "outputs": [
    {
     "data": {
      "text/html": [
       "<div>\n",
       "<style scoped>\n",
       "    .dataframe tbody tr th:only-of-type {\n",
       "        vertical-align: middle;\n",
       "    }\n",
       "\n",
       "    .dataframe tbody tr th {\n",
       "        vertical-align: top;\n",
       "    }\n",
       "\n",
       "    .dataframe thead th {\n",
       "        text-align: right;\n",
       "    }\n",
       "</style>\n",
       "<table border=\"1\" class=\"dataframe\">\n",
       "  <thead>\n",
       "    <tr style=\"text-align: right;\">\n",
       "      <th></th>\n",
       "      <th>msno</th>\n",
       "      <th>payment_method_id</th>\n",
       "      <th>payment_plan_days</th>\n",
       "      <th>plan_list_price</th>\n",
       "      <th>actual_amount_paid</th>\n",
       "      <th>is_auto_renew</th>\n",
       "      <th>transaction_date</th>\n",
       "      <th>membership_expire_date</th>\n",
       "      <th>is_cancel</th>\n",
       "      <th>discount</th>\n",
       "      <th>price_diff</th>\n",
       "    </tr>\n",
       "  </thead>\n",
       "  <tbody>\n",
       "    <tr>\n",
       "      <th>6797850</th>\n",
       "      <td>+++FOrTS7ab3tIgIh8eWwX4FqRv8w/FoiOuyXsFvphY=</td>\n",
       "      <td>35</td>\n",
       "      <td>7</td>\n",
       "      <td>0</td>\n",
       "      <td>0</td>\n",
       "      <td>0</td>\n",
       "      <td>2016-09-09</td>\n",
       "      <td>2016-09-14</td>\n",
       "      <td>0</td>\n",
       "      <td>0</td>\n",
       "      <td>0</td>\n",
       "    </tr>\n",
       "    <tr>\n",
       "      <th>1521480</th>\n",
       "      <td>+++IZseRRiQS9aaSkH6cMYU6bGDcxUieAi/tH67sC5s=</td>\n",
       "      <td>38</td>\n",
       "      <td>410</td>\n",
       "      <td>1788</td>\n",
       "      <td>1788</td>\n",
       "      <td>0</td>\n",
       "      <td>2015-11-21</td>\n",
       "      <td>2017-01-04</td>\n",
       "      <td>0</td>\n",
       "      <td>0</td>\n",
       "      <td>0</td>\n",
       "    </tr>\n",
       "    <tr>\n",
       "      <th>1914756</th>\n",
       "      <td>+++hVY1rZox/33YtvDgmKA2Frg/2qhkz12B9ylCvh8o=</td>\n",
       "      <td>41</td>\n",
       "      <td>30</td>\n",
       "      <td>99</td>\n",
       "      <td>99</td>\n",
       "      <td>1</td>\n",
       "      <td>2017-02-15</td>\n",
       "      <td>2017-03-15</td>\n",
       "      <td>0</td>\n",
       "      <td>0</td>\n",
       "      <td>0</td>\n",
       "    </tr>\n",
       "    <tr>\n",
       "      <th>5340639</th>\n",
       "      <td>+++l/EXNMLTijfLBa8p2TUVVVp2aFGSuUI/h7mLmthw=</td>\n",
       "      <td>39</td>\n",
       "      <td>30</td>\n",
       "      <td>149</td>\n",
       "      <td>149</td>\n",
       "      <td>1</td>\n",
       "      <td>2016-11-30</td>\n",
       "      <td>2017-01-19</td>\n",
       "      <td>0</td>\n",
       "      <td>0</td>\n",
       "      <td>0</td>\n",
       "    </tr>\n",
       "    <tr>\n",
       "      <th>8526712</th>\n",
       "      <td>+++snpr7pmobhLKUgSHTv/mpkqgBT0tQJ0zQj6qKrqc=</td>\n",
       "      <td>41</td>\n",
       "      <td>30</td>\n",
       "      <td>149</td>\n",
       "      <td>149</td>\n",
       "      <td>1</td>\n",
       "      <td>2017-01-26</td>\n",
       "      <td>2017-02-26</td>\n",
       "      <td>0</td>\n",
       "      <td>0</td>\n",
       "      <td>0</td>\n",
       "    </tr>\n",
       "  </tbody>\n",
       "</table>\n",
       "</div>"
      ],
      "text/plain": [
       "                                                 msno  payment_method_id  \\\n",
       "6797850  +++FOrTS7ab3tIgIh8eWwX4FqRv8w/FoiOuyXsFvphY=                 35   \n",
       "1521480  +++IZseRRiQS9aaSkH6cMYU6bGDcxUieAi/tH67sC5s=                 38   \n",
       "1914756  +++hVY1rZox/33YtvDgmKA2Frg/2qhkz12B9ylCvh8o=                 41   \n",
       "5340639  +++l/EXNMLTijfLBa8p2TUVVVp2aFGSuUI/h7mLmthw=                 39   \n",
       "8526712  +++snpr7pmobhLKUgSHTv/mpkqgBT0tQJ0zQj6qKrqc=                 41   \n",
       "\n",
       "         payment_plan_days  plan_list_price  actual_amount_paid  \\\n",
       "6797850                  7                0                   0   \n",
       "1521480                410             1788                1788   \n",
       "1914756                 30               99                  99   \n",
       "5340639                 30              149                 149   \n",
       "8526712                 30              149                 149   \n",
       "\n",
       "         is_auto_renew transaction_date membership_expire_date  is_cancel  \\\n",
       "6797850              0       2016-09-09             2016-09-14          0   \n",
       "1521480              0       2015-11-21             2017-01-04          0   \n",
       "1914756              1       2017-02-15             2017-03-15          0   \n",
       "5340639              1       2016-11-30             2017-01-19          0   \n",
       "8526712              1       2017-01-26             2017-02-26          0   \n",
       "\n",
       "         discount  price_diff  \n",
       "6797850         0           0  \n",
       "1521480         0           0  \n",
       "1914756         0           0  \n",
       "5340639         0           0  \n",
       "8526712         0           0  "
      ]
     },
     "execution_count": 76,
     "metadata": {},
     "output_type": "execute_result"
    }
   ],
   "source": [
    "# get latest transaction\n",
    "max_transact = transactions.loc[transactions.groupby(['msno'])[\"transaction_date\"].idxmax()]\n",
    "max_transact.head()"
   ]
  },
  {
   "cell_type": "code",
   "execution_count": 77,
   "metadata": {},
   "outputs": [
    {
     "data": {
      "text/plain": [
       "array([1])"
      ]
     },
     "execution_count": 77,
     "metadata": {},
     "output_type": "execute_result"
    }
   ],
   "source": [
    "# checking max transact is there \n",
    "check_max = pd.DataFrame(max_transact.msno.value_counts())\n",
    "check_max['msno'].unique()"
   ]
  },
  {
   "cell_type": "code",
   "execution_count": 78,
   "metadata": {},
   "outputs": [
    {
     "name": "stdout",
     "output_type": "stream",
     "text": [
      "(1913666, 11)\n"
     ]
    },
    {
     "data": {
      "text/html": [
       "<div>\n",
       "<style scoped>\n",
       "    .dataframe tbody tr th:only-of-type {\n",
       "        vertical-align: middle;\n",
       "    }\n",
       "\n",
       "    .dataframe tbody tr th {\n",
       "        vertical-align: top;\n",
       "    }\n",
       "\n",
       "    .dataframe thead th {\n",
       "        text-align: right;\n",
       "    }\n",
       "</style>\n",
       "<table border=\"1\" class=\"dataframe\">\n",
       "  <thead>\n",
       "    <tr style=\"text-align: right;\">\n",
       "      <th></th>\n",
       "      <th>msno</th>\n",
       "      <th>payment_method_id</th>\n",
       "      <th>payment_plan_days</th>\n",
       "      <th>plan_list_price</th>\n",
       "      <th>actual_amount_paid</th>\n",
       "      <th>is_auto_renew</th>\n",
       "      <th>transaction_date</th>\n",
       "      <th>membership_expire_date</th>\n",
       "      <th>is_cancel</th>\n",
       "      <th>discount</th>\n",
       "      <th>price_diff</th>\n",
       "    </tr>\n",
       "  </thead>\n",
       "  <tbody>\n",
       "    <tr>\n",
       "      <th>6797850</th>\n",
       "      <td>+++FOrTS7ab3tIgIh8eWwX4FqRv8w/FoiOuyXsFvphY=</td>\n",
       "      <td>35</td>\n",
       "      <td>7</td>\n",
       "      <td>0</td>\n",
       "      <td>0</td>\n",
       "      <td>0</td>\n",
       "      <td>2016-09-09</td>\n",
       "      <td>2016-09-14</td>\n",
       "      <td>0</td>\n",
       "      <td>0</td>\n",
       "      <td>0</td>\n",
       "    </tr>\n",
       "    <tr>\n",
       "      <th>1521480</th>\n",
       "      <td>+++IZseRRiQS9aaSkH6cMYU6bGDcxUieAi/tH67sC5s=</td>\n",
       "      <td>38</td>\n",
       "      <td>410</td>\n",
       "      <td>1788</td>\n",
       "      <td>1788</td>\n",
       "      <td>0</td>\n",
       "      <td>2015-11-21</td>\n",
       "      <td>2017-01-04</td>\n",
       "      <td>0</td>\n",
       "      <td>0</td>\n",
       "      <td>0</td>\n",
       "    </tr>\n",
       "    <tr>\n",
       "      <th>1914756</th>\n",
       "      <td>+++hVY1rZox/33YtvDgmKA2Frg/2qhkz12B9ylCvh8o=</td>\n",
       "      <td>41</td>\n",
       "      <td>30</td>\n",
       "      <td>99</td>\n",
       "      <td>99</td>\n",
       "      <td>1</td>\n",
       "      <td>2017-02-15</td>\n",
       "      <td>2017-03-15</td>\n",
       "      <td>0</td>\n",
       "      <td>0</td>\n",
       "      <td>0</td>\n",
       "    </tr>\n",
       "    <tr>\n",
       "      <th>5340639</th>\n",
       "      <td>+++l/EXNMLTijfLBa8p2TUVVVp2aFGSuUI/h7mLmthw=</td>\n",
       "      <td>39</td>\n",
       "      <td>30</td>\n",
       "      <td>149</td>\n",
       "      <td>149</td>\n",
       "      <td>1</td>\n",
       "      <td>2016-11-30</td>\n",
       "      <td>2017-01-19</td>\n",
       "      <td>0</td>\n",
       "      <td>0</td>\n",
       "      <td>0</td>\n",
       "    </tr>\n",
       "    <tr>\n",
       "      <th>8526712</th>\n",
       "      <td>+++snpr7pmobhLKUgSHTv/mpkqgBT0tQJ0zQj6qKrqc=</td>\n",
       "      <td>41</td>\n",
       "      <td>30</td>\n",
       "      <td>149</td>\n",
       "      <td>149</td>\n",
       "      <td>1</td>\n",
       "      <td>2017-01-26</td>\n",
       "      <td>2017-02-26</td>\n",
       "      <td>0</td>\n",
       "      <td>0</td>\n",
       "      <td>0</td>\n",
       "    </tr>\n",
       "  </tbody>\n",
       "</table>\n",
       "</div>"
      ],
      "text/plain": [
       "                                                 msno  payment_method_id  \\\n",
       "6797850  +++FOrTS7ab3tIgIh8eWwX4FqRv8w/FoiOuyXsFvphY=                 35   \n",
       "1521480  +++IZseRRiQS9aaSkH6cMYU6bGDcxUieAi/tH67sC5s=                 38   \n",
       "1914756  +++hVY1rZox/33YtvDgmKA2Frg/2qhkz12B9ylCvh8o=                 41   \n",
       "5340639  +++l/EXNMLTijfLBa8p2TUVVVp2aFGSuUI/h7mLmthw=                 39   \n",
       "8526712  +++snpr7pmobhLKUgSHTv/mpkqgBT0tQJ0zQj6qKrqc=                 41   \n",
       "\n",
       "         payment_plan_days  plan_list_price  actual_amount_paid  \\\n",
       "6797850                  7                0                   0   \n",
       "1521480                410             1788                1788   \n",
       "1914756                 30               99                  99   \n",
       "5340639                 30              149                 149   \n",
       "8526712                 30              149                 149   \n",
       "\n",
       "         is_auto_renew transaction_date membership_expire_date  is_cancel  \\\n",
       "6797850              0       2016-09-09             2016-09-14          0   \n",
       "1521480              0       2015-11-21             2017-01-04          0   \n",
       "1914756              1       2017-02-15             2017-03-15          0   \n",
       "5340639              1       2016-11-30             2017-01-19          0   \n",
       "8526712              1       2017-01-26             2017-02-26          0   \n",
       "\n",
       "         discount  price_diff  \n",
       "6797850         0           0  \n",
       "1521480         0           0  \n",
       "1914756         0           0  \n",
       "5340639         0           0  \n",
       "8526712         0           0  "
      ]
     },
     "execution_count": 78,
     "metadata": {},
     "output_type": "execute_result"
    }
   ],
   "source": [
    "print(max_transact.shape)\n",
    "max_transact.head()"
   ]
  },
  {
   "cell_type": "code",
   "execution_count": 79,
   "metadata": {},
   "outputs": [
    {
     "data": {
      "text/plain": [
       "0    0.998956\n",
       "1    0.001034\n",
       "2    0.000010\n",
       "Name: discount, dtype: float64"
      ]
     },
     "execution_count": 79,
     "metadata": {},
     "output_type": "execute_result"
    }
   ],
   "source": [
    "max_transact.discount.value_counts(dropna=False,normalize=True)\n"
   ]
  },
  {
   "cell_type": "code",
   "execution_count": 80,
   "metadata": {},
   "outputs": [],
   "source": [
    "max_transact=max_transact[max_transact.discount != 2]"
   ]
  },
  {
   "cell_type": "code",
   "execution_count": 81,
   "metadata": {},
   "outputs": [
    {
     "name": "stdout",
     "output_type": "stream",
     "text": [
      "0    86.560322\n",
      "1    13.439678\n",
      "Name: is_cancel, dtype: float64\n"
     ]
    },
    {
     "data": {
      "text/plain": [
       "<matplotlib.axes._subplots.AxesSubplot at 0x1bdd19a9e8>"
      ]
     },
     "execution_count": 81,
     "metadata": {},
     "output_type": "execute_result"
    },
    {
     "data": {
      "image/png": "[encoded data removed]",
      "text/plain": [
       "<Figure size 432x288 with 1 Axes>"
      ]
     },
     "metadata": {
      "needs_background": "light"
     },
     "output_type": "display_data"
    }
   ],
   "source": [
    "# is_cancel comparison\n",
    "print(max_transact.is_cancel.value_counts(dropna=False,normalize=True)*100)\n",
    "max_transact.is_cancel.value_counts(dropna=False,normalize=True).plot(kind='bar')\n"
   ]
  },
  {
   "cell_type": "code",
   "execution_count": 82,
   "metadata": {},
   "outputs": [
    {
     "data": {
      "text/plain": [
       "(1913647, 11)"
      ]
     },
     "execution_count": 82,
     "metadata": {},
     "output_type": "execute_result"
    }
   ],
   "source": [
    "max_transact.shape"
   ]
  },
  {
   "cell_type": "markdown",
   "metadata": {},
   "source": [
    "# EDA After Merge"
   ]
  },
  {
   "cell_type": "code",
   "execution_count": 134,
   "metadata": {
    "scrolled": true
   },
   "outputs": [
    {
     "data": {
      "text/html": [
       "<div>\n",
       "<style scoped>\n",
       "    .dataframe tbody tr th:only-of-type {\n",
       "        vertical-align: middle;\n",
       "    }\n",
       "\n",
       "    .dataframe tbody tr th {\n",
       "        vertical-align: top;\n",
       "    }\n",
       "\n",
       "    .dataframe thead th {\n",
       "        text-align: right;\n",
       "    }\n",
       "</style>\n",
       "<table border=\"1\" class=\"dataframe\">\n",
       "  <thead>\n",
       "    <tr style=\"text-align: right;\">\n",
       "      <th></th>\n",
       "      <th>msno</th>\n",
       "      <th>is_churn</th>\n",
       "      <th>city</th>\n",
       "      <th>bd</th>\n",
       "      <th>registered_via</th>\n",
       "      <th>registration_init_time</th>\n",
       "      <th>bd_checker</th>\n",
       "      <th>registration_year</th>\n",
       "      <th>registration_month</th>\n",
       "      <th>registration_day</th>\n",
       "      <th>registration_weekday</th>\n",
       "      <th>registration_day_of_week</th>\n",
       "    </tr>\n",
       "  </thead>\n",
       "  <tbody>\n",
       "    <tr>\n",
       "      <th>0</th>\n",
       "      <td>waLDQMmcOu2jLDaV1ddDkgCrB/jl6sD66Xzs0Vqax1Y=</td>\n",
       "      <td>1</td>\n",
       "      <td>999</td>\n",
       "      <td>36</td>\n",
       "      <td>9</td>\n",
       "      <td>2005-04-06</td>\n",
       "      <td>good</td>\n",
       "      <td>2005</td>\n",
       "      <td>4</td>\n",
       "      <td>6</td>\n",
       "      <td>2</td>\n",
       "      <td>Wednesday</td>\n",
       "    </tr>\n",
       "    <tr>\n",
       "      <th>1</th>\n",
       "      <td>QA7uiXy8vIbUSPOkCf9RwQ3FsT8jVq2OxDr8zqa7bRQ=</td>\n",
       "      <td>1</td>\n",
       "      <td>999</td>\n",
       "      <td>38</td>\n",
       "      <td>9</td>\n",
       "      <td>2005-04-07</td>\n",
       "      <td>good</td>\n",
       "      <td>2005</td>\n",
       "      <td>4</td>\n",
       "      <td>7</td>\n",
       "      <td>3</td>\n",
       "      <td>Thursday</td>\n",
       "    </tr>\n",
       "    <tr>\n",
       "      <th>2</th>\n",
       "      <td>fGwBva6hikQmTJzrbz/2Ezjm5Cth5jZUNvXigKK2AFA=</td>\n",
       "      <td>1</td>\n",
       "      <td>999</td>\n",
       "      <td>27</td>\n",
       "      <td>9</td>\n",
       "      <td>2005-10-16</td>\n",
       "      <td>good</td>\n",
       "      <td>2005</td>\n",
       "      <td>10</td>\n",
       "      <td>16</td>\n",
       "      <td>6</td>\n",
       "      <td>Sunday</td>\n",
       "    </tr>\n",
       "    <tr>\n",
       "      <th>3</th>\n",
       "      <td>mT5V8rEpa+8wuqi6x0DoVd3H5icMKkE9Prt49UlmK+4=</td>\n",
       "      <td>1</td>\n",
       "      <td>13</td>\n",
       "      <td>23</td>\n",
       "      <td>9</td>\n",
       "      <td>2005-11-02</td>\n",
       "      <td>good</td>\n",
       "      <td>2005</td>\n",
       "      <td>11</td>\n",
       "      <td>2</td>\n",
       "      <td>2</td>\n",
       "      <td>Wednesday</td>\n",
       "    </tr>\n",
       "    <tr>\n",
       "      <th>4</th>\n",
       "      <td>XaPhtGLk/5UvvOYHcONTwsnH97P4eGECeq+BARGItRw=</td>\n",
       "      <td>1</td>\n",
       "      <td>999</td>\n",
       "      <td>27</td>\n",
       "      <td>9</td>\n",
       "      <td>2005-12-28</td>\n",
       "      <td>good</td>\n",
       "      <td>2005</td>\n",
       "      <td>12</td>\n",
       "      <td>28</td>\n",
       "      <td>2</td>\n",
       "      <td>Wednesday</td>\n",
       "    </tr>\n",
       "  </tbody>\n",
       "</table>\n",
       "</div>"
      ],
      "text/plain": [
       "                                           msno  is_churn  city  bd  \\\n",
       "0  waLDQMmcOu2jLDaV1ddDkgCrB/jl6sD66Xzs0Vqax1Y=         1   999  36   \n",
       "1  QA7uiXy8vIbUSPOkCf9RwQ3FsT8jVq2OxDr8zqa7bRQ=         1   999  38   \n",
       "2  fGwBva6hikQmTJzrbz/2Ezjm5Cth5jZUNvXigKK2AFA=         1   999  27   \n",
       "3  mT5V8rEpa+8wuqi6x0DoVd3H5icMKkE9Prt49UlmK+4=         1    13  23   \n",
       "4  XaPhtGLk/5UvvOYHcONTwsnH97P4eGECeq+BARGItRw=         1   999  27   \n",
       "\n",
       "   registered_via registration_init_time bd_checker  registration_year  \\\n",
       "0               9             2005-04-06       good               2005   \n",
       "1               9             2005-04-07       good               2005   \n",
       "2               9             2005-10-16       good               2005   \n",
       "3               9             2005-11-02       good               2005   \n",
       "4               9             2005-12-28       good               2005   \n",
       "\n",
       "   registration_month  registration_day  registration_weekday  \\\n",
       "0                   4                 6                     2   \n",
       "1                   4                 7                     3   \n",
       "2                  10                16                     6   \n",
       "3                  11                 2                     2   \n",
       "4                  12                28                     2   \n",
       "\n",
       "  registration_day_of_week  \n",
       "0                Wednesday  \n",
       "1                 Thursday  \n",
       "2                   Sunday  \n",
       "3                Wednesday  \n",
       "4                Wednesday  "
      ]
     },
     "execution_count": 134,
     "metadata": {},
     "output_type": "execute_result"
    }
   ],
   "source": [
    "\n",
    "df_member.head()"
   ]
  },
  {
   "cell_type": "code",
   "execution_count": 135,
   "metadata": {},
   "outputs": [
    {
     "name": "stdout",
     "output_type": "stream",
     "text": [
      "<class 'pandas.core.frame.DataFrame'>\n",
      "Int64Index: 877161 entries, 0 to 877160\n",
      "Data columns (total 12 columns):\n",
      "msno                        877161 non-null object\n",
      "is_churn                    877161 non-null int64\n",
      "city                        877161 non-null int64\n",
      "bd                          877161 non-null int64\n",
      "registered_via              877161 non-null int64\n",
      "registration_init_time      877161 non-null datetime64[ns]\n",
      "bd_checker                  877161 non-null object\n",
      "registration_year           877161 non-null int64\n",
      "registration_month          877161 non-null int64\n",
      "registration_day            877161 non-null int64\n",
      "registration_weekday        877161 non-null int64\n",
      "registration_day_of_week    877161 non-null object\n",
      "dtypes: datetime64[ns](1), int64(8), object(3)\n",
      "memory usage: 87.0+ MB\n"
     ]
    }
   ],
   "source": [
    "df_member.info()"
   ]
  },
  {
   "cell_type": "code",
   "execution_count": 136,
   "metadata": {},
   "outputs": [
    {
     "data": {
      "text/plain": [
       "<matplotlib.axes._subplots.AxesSubplot at 0x1a45c6f908>"
      ]
     },
     "execution_count": 136,
     "metadata": {},
     "output_type": "execute_result"
    },
    {
     "data": {
      "image/png": "[encoded data removed]",
      "text/plain": [
       "<Figure size 432x288 with 2 Axes>"
      ]
     },
     "metadata": {
      "needs_background": "light"
     },
     "output_type": "display_data"
    }
   ],
   "source": [
    "corr = df_member.corr()\n",
    "mask = np.zeros_like(corr, dtype=np.bool)\n",
    "mask[np.triu_indices_from(mask)] = True\n",
    "sns.heatmap(corr, mask=mask, vmin=-.6,vmax=.6, square=True)"
   ]
  },
  {
   "cell_type": "code",
   "execution_count": 137,
   "metadata": {},
   "outputs": [],
   "source": [
    "#no strong correllations to is_churn"
   ]
  },
  {
   "cell_type": "code",
   "execution_count": 185,
   "metadata": {},
   "outputs": [
    {
     "name": "stdout",
     "output_type": "stream",
     "text": [
      "(1913647, 11)\n"
     ]
    },
    {
     "data": {
      "text/html": [
       "<div>\n",
       "<style scoped>\n",
       "    .dataframe tbody tr th:only-of-type {\n",
       "        vertical-align: middle;\n",
       "    }\n",
       "\n",
       "    .dataframe tbody tr th {\n",
       "        vertical-align: top;\n",
       "    }\n",
       "\n",
       "    .dataframe thead th {\n",
       "        text-align: right;\n",
       "    }\n",
       "</style>\n",
       "<table border=\"1\" class=\"dataframe\">\n",
       "  <thead>\n",
       "    <tr style=\"text-align: right;\">\n",
       "      <th></th>\n",
       "      <th>msno</th>\n",
       "      <th>payment_method_id</th>\n",
       "      <th>payment_plan_days</th>\n",
       "      <th>plan_list_price</th>\n",
       "      <th>actual_amount_paid</th>\n",
       "      <th>is_auto_renew</th>\n",
       "      <th>transaction_date</th>\n",
       "      <th>membership_expire_date</th>\n",
       "      <th>is_cancel</th>\n",
       "      <th>discount</th>\n",
       "      <th>price_diff</th>\n",
       "    </tr>\n",
       "  </thead>\n",
       "  <tbody>\n",
       "    <tr>\n",
       "      <th>6797850</th>\n",
       "      <td>+++FOrTS7ab3tIgIh8eWwX4FqRv8w/FoiOuyXsFvphY=</td>\n",
       "      <td>35</td>\n",
       "      <td>7</td>\n",
       "      <td>0</td>\n",
       "      <td>0</td>\n",
       "      <td>0</td>\n",
       "      <td>2016-09-09</td>\n",
       "      <td>2016-09-14</td>\n",
       "      <td>0</td>\n",
       "      <td>0</td>\n",
       "      <td>0</td>\n",
       "    </tr>\n",
       "    <tr>\n",
       "      <th>1521480</th>\n",
       "      <td>+++IZseRRiQS9aaSkH6cMYU6bGDcxUieAi/tH67sC5s=</td>\n",
       "      <td>38</td>\n",
       "      <td>410</td>\n",
       "      <td>1788</td>\n",
       "      <td>1788</td>\n",
       "      <td>0</td>\n",
       "      <td>2015-11-21</td>\n",
       "      <td>2017-01-04</td>\n",
       "      <td>0</td>\n",
       "      <td>0</td>\n",
       "      <td>0</td>\n",
       "    </tr>\n",
       "    <tr>\n",
       "      <th>1914756</th>\n",
       "      <td>+++hVY1rZox/33YtvDgmKA2Frg/2qhkz12B9ylCvh8o=</td>\n",
       "      <td>41</td>\n",
       "      <td>30</td>\n",
       "      <td>99</td>\n",
       "      <td>99</td>\n",
       "      <td>1</td>\n",
       "      <td>2017-02-15</td>\n",
       "      <td>2017-03-15</td>\n",
       "      <td>0</td>\n",
       "      <td>0</td>\n",
       "      <td>0</td>\n",
       "    </tr>\n",
       "    <tr>\n",
       "      <th>5340639</th>\n",
       "      <td>+++l/EXNMLTijfLBa8p2TUVVVp2aFGSuUI/h7mLmthw=</td>\n",
       "      <td>39</td>\n",
       "      <td>30</td>\n",
       "      <td>149</td>\n",
       "      <td>149</td>\n",
       "      <td>1</td>\n",
       "      <td>2016-11-30</td>\n",
       "      <td>2017-01-19</td>\n",
       "      <td>0</td>\n",
       "      <td>0</td>\n",
       "      <td>0</td>\n",
       "    </tr>\n",
       "    <tr>\n",
       "      <th>8526712</th>\n",
       "      <td>+++snpr7pmobhLKUgSHTv/mpkqgBT0tQJ0zQj6qKrqc=</td>\n",
       "      <td>41</td>\n",
       "      <td>30</td>\n",
       "      <td>149</td>\n",
       "      <td>149</td>\n",
       "      <td>1</td>\n",
       "      <td>2017-01-26</td>\n",
       "      <td>2017-02-26</td>\n",
       "      <td>0</td>\n",
       "      <td>0</td>\n",
       "      <td>0</td>\n",
       "    </tr>\n",
       "  </tbody>\n",
       "</table>\n",
       "</div>"
      ],
      "text/plain": [
       "                                                 msno  payment_method_id  \\\n",
       "6797850  +++FOrTS7ab3tIgIh8eWwX4FqRv8w/FoiOuyXsFvphY=                 35   \n",
       "1521480  +++IZseRRiQS9aaSkH6cMYU6bGDcxUieAi/tH67sC5s=                 38   \n",
       "1914756  +++hVY1rZox/33YtvDgmKA2Frg/2qhkz12B9ylCvh8o=                 41   \n",
       "5340639  +++l/EXNMLTijfLBa8p2TUVVVp2aFGSuUI/h7mLmthw=                 39   \n",
       "8526712  +++snpr7pmobhLKUgSHTv/mpkqgBT0tQJ0zQj6qKrqc=                 41   \n",
       "\n",
       "         payment_plan_days  plan_list_price  actual_amount_paid  \\\n",
       "6797850                  7                0                   0   \n",
       "1521480                410             1788                1788   \n",
       "1914756                 30               99                  99   \n",
       "5340639                 30              149                 149   \n",
       "8526712                 30              149                 149   \n",
       "\n",
       "         is_auto_renew transaction_date membership_expire_date  is_cancel  \\\n",
       "6797850              0       2016-09-09             2016-09-14          0   \n",
       "1521480              0       2015-11-21             2017-01-04          0   \n",
       "1914756              1       2017-02-15             2017-03-15          0   \n",
       "5340639              1       2016-11-30             2017-01-19          0   \n",
       "8526712              1       2017-01-26             2017-02-26          0   \n",
       "\n",
       "         discount  price_diff  \n",
       "6797850         0           0  \n",
       "1521480         0           0  \n",
       "1914756         0           0  \n",
       "5340639         0           0  \n",
       "8526712         0           0  "
      ]
     },
     "execution_count": 185,
     "metadata": {},
     "output_type": "execute_result"
    }
   ],
   "source": [
    "print(max_transact.shape)\n",
    "max_transact.head()"
   ]
  },
  {
   "cell_type": "code",
   "execution_count": 186,
   "metadata": {},
   "outputs": [
    {
     "name": "stdout",
     "output_type": "stream",
     "text": [
      "<class 'pandas.core.frame.DataFrame'>\n",
      "Int64Index: 1913647 entries, 6797850 to 9570304\n",
      "Data columns (total 11 columns):\n",
      "msno                      object\n",
      "payment_method_id         int64\n",
      "payment_plan_days         int64\n",
      "plan_list_price           int64\n",
      "actual_amount_paid        int64\n",
      "is_auto_renew             int64\n",
      "transaction_date          datetime64[ns]\n",
      "membership_expire_date    datetime64[ns]\n",
      "is_cancel                 int64\n",
      "discount                  int64\n",
      "price_diff                int64\n",
      "dtypes: datetime64[ns](2), int64(8), object(1)\n",
      "memory usage: 175.2+ MB\n"
     ]
    }
   ],
   "source": [
    "max_transact.info()"
   ]
  },
  {
   "cell_type": "code",
   "execution_count": 187,
   "metadata": {},
   "outputs": [
    {
     "data": {
      "text/plain": [
       "<matplotlib.axes._subplots.AxesSubplot at 0x1c82856d30>"
      ]
     },
     "execution_count": 187,
     "metadata": {},
     "output_type": "execute_result"
    },
    {
     "data": {
      "image/png": "[encoded data removed]",
      "text/plain": [
       "<Figure size 432x288 with 2 Axes>"
      ]
     },
     "metadata": {
      "needs_background": "light"
     },
     "output_type": "display_data"
    }
   ],
   "source": [
    "corr = max_transact.corr()\n",
    "mask = np.zeros_like(corr, dtype=np.bool)\n",
    "mask[np.triu_indices_from(mask)] = True\n",
    "sns.heatmap(corr, mask=mask, vmin=-.5,vmax=1, square=True)"
   ]
  },
  {
   "cell_type": "code",
   "execution_count": 90,
   "metadata": {},
   "outputs": [],
   "source": [
    "# strong negative correlation between is churn and is_auto_renew\n",
    "# somewhat of a correlation between is churn and is cancel"
   ]
  },
  {
   "cell_type": "code",
   "execution_count": 176,
   "metadata": {},
   "outputs": [
    {
     "name": "stdout",
     "output_type": "stream",
     "text": [
      "(812416, 5)\n"
     ]
    },
    {
     "data": {
      "text/html": [
       "<div>\n",
       "<style scoped>\n",
       "    .dataframe tbody tr th:only-of-type {\n",
       "        vertical-align: middle;\n",
       "    }\n",
       "\n",
       "    .dataframe tbody tr th {\n",
       "        vertical-align: top;\n",
       "    }\n",
       "\n",
       "    .dataframe thead th {\n",
       "        text-align: right;\n",
       "    }\n",
       "</style>\n",
       "<table border=\"1\" class=\"dataframe\">\n",
       "  <thead>\n",
       "    <tr style=\"text-align: right;\">\n",
       "      <th></th>\n",
       "      <th>msno</th>\n",
       "      <th>num_unq</th>\n",
       "      <th>total_songs</th>\n",
       "      <th>songs_repeated</th>\n",
       "      <th>is_churn</th>\n",
       "    </tr>\n",
       "  </thead>\n",
       "  <tbody>\n",
       "    <tr>\n",
       "      <th>0</th>\n",
       "      <td>+++hVY1rZox/33YtvDgmKA2Frg/2qhkz12B9ylCvh8o=</td>\n",
       "      <td>657</td>\n",
       "      <td>1010</td>\n",
       "      <td>353</td>\n",
       "      <td>0</td>\n",
       "    </tr>\n",
       "    <tr>\n",
       "      <th>1</th>\n",
       "      <td>+++l/EXNMLTijfLBa8p2TUVVVp2aFGSuUI/h7mLmthw=</td>\n",
       "      <td>3000</td>\n",
       "      <td>3524</td>\n",
       "      <td>524</td>\n",
       "      <td>0</td>\n",
       "    </tr>\n",
       "    <tr>\n",
       "      <th>2</th>\n",
       "      <td>+++snpr7pmobhLKUgSHTv/mpkqgBT0tQJ0zQj6qKrqc=</td>\n",
       "      <td>6152</td>\n",
       "      <td>8909</td>\n",
       "      <td>2757</td>\n",
       "      <td>0</td>\n",
       "    </tr>\n",
       "    <tr>\n",
       "      <th>3</th>\n",
       "      <td>++/9R3sX37CjxbY/AaGvbwr3QkwElKBCtSvVzhCBDOk=</td>\n",
       "      <td>1061</td>\n",
       "      <td>2087</td>\n",
       "      <td>1026</td>\n",
       "      <td>0</td>\n",
       "    </tr>\n",
       "    <tr>\n",
       "      <th>4</th>\n",
       "      <td>++/UDNo9DLrxT8QVGiDi1OnWfczAdEwThaVyD0fXO50=</td>\n",
       "      <td>1616</td>\n",
       "      <td>1759</td>\n",
       "      <td>143</td>\n",
       "      <td>0</td>\n",
       "    </tr>\n",
       "  </tbody>\n",
       "</table>\n",
       "</div>"
      ],
      "text/plain": [
       "                                           msno  num_unq  total_songs  \\\n",
       "0  +++hVY1rZox/33YtvDgmKA2Frg/2qhkz12B9ylCvh8o=      657         1010   \n",
       "1  +++l/EXNMLTijfLBa8p2TUVVVp2aFGSuUI/h7mLmthw=     3000         3524   \n",
       "2  +++snpr7pmobhLKUgSHTv/mpkqgBT0tQJ0zQj6qKrqc=     6152         8909   \n",
       "3  ++/9R3sX37CjxbY/AaGvbwr3QkwElKBCtSvVzhCBDOk=     1061         2087   \n",
       "4  ++/UDNo9DLrxT8QVGiDi1OnWfczAdEwThaVyD0fXO50=     1616         1759   \n",
       "\n",
       "   songs_repeated  is_churn  \n",
       "0             353         0  \n",
       "1             524         0  \n",
       "2            2757         0  \n",
       "3            1026         0  \n",
       "4             143         0  "
      ]
     },
     "execution_count": 176,
     "metadata": {},
     "output_type": "execute_result"
    }
   ],
   "source": [
    "print(df_log.shape)\n",
    "df_log.head()"
   ]
  },
  {
   "cell_type": "code",
   "execution_count": 177,
   "metadata": {},
   "outputs": [
    {
     "name": "stdout",
     "output_type": "stream",
     "text": [
      "<class 'pandas.core.frame.DataFrame'>\n",
      "Int64Index: 812416 entries, 0 to 812415\n",
      "Data columns (total 5 columns):\n",
      "msno              812416 non-null object\n",
      "num_unq           812416 non-null int64\n",
      "total_songs       812416 non-null int64\n",
      "songs_repeated    812416 non-null int64\n",
      "is_churn          812416 non-null int64\n",
      "dtypes: int64(4), object(1)\n",
      "memory usage: 37.2+ MB\n"
     ]
    }
   ],
   "source": [
    "df_log.info()"
   ]
  },
  {
   "cell_type": "code",
   "execution_count": 178,
   "metadata": {},
   "outputs": [
    {
     "data": {
      "text/plain": [
       "<matplotlib.axes._subplots.AxesSubplot at 0x1becd605f8>"
      ]
     },
     "execution_count": 178,
     "metadata": {},
     "output_type": "execute_result"
    },
    {
     "data": {
      "image/png": "[encoded data removed]",
      "text/plain": [
       "<Figure size 432x288 with 2 Axes>"
      ]
     },
     "metadata": {
      "needs_background": "light"
     },
     "output_type": "display_data"
    }
   ],
   "source": [
    "corr = df_log.corr()\n",
    "mask = np.zeros_like(corr, dtype=np.bool)\n",
    "mask[np.triu_indices_from(mask)] = True\n",
    "sns.heatmap(corr, mask=mask, vmin=-.3,vmax=1, square=True)"
   ]
  },
  {
   "cell_type": "code",
   "execution_count": 145,
   "metadata": {},
   "outputs": [],
   "source": [
    "# is_churn is not correltated with all log data"
   ]
  },
  {
   "cell_type": "markdown",
   "metadata": {},
   "source": [
    "## Merge all Data"
   ]
  },
  {
   "cell_type": "code",
   "execution_count": 524,
   "metadata": {},
   "outputs": [
    {
     "name": "stdout",
     "output_type": "stream",
     "text": [
      "(853426, 22)\n",
      "(793311, 25)\n"
     ]
    },
    {
     "data": {
      "text/html": [
       "<div>\n",
       "<style scoped>\n",
       "    .dataframe tbody tr th:only-of-type {\n",
       "        vertical-align: middle;\n",
       "    }\n",
       "\n",
       "    .dataframe tbody tr th {\n",
       "        vertical-align: top;\n",
       "    }\n",
       "\n",
       "    .dataframe thead th {\n",
       "        text-align: right;\n",
       "    }\n",
       "</style>\n",
       "<table border=\"1\" class=\"dataframe\">\n",
       "  <thead>\n",
       "    <tr style=\"text-align: right;\">\n",
       "      <th></th>\n",
       "      <th>msno</th>\n",
       "      <th>is_churn</th>\n",
       "      <th>city</th>\n",
       "      <th>bd</th>\n",
       "      <th>registered_via</th>\n",
       "      <th>registration_init_time</th>\n",
       "      <th>bd_checker</th>\n",
       "      <th>registration_year</th>\n",
       "      <th>registration_month</th>\n",
       "      <th>registration_day</th>\n",
       "      <th>registration_weekday</th>\n",
       "      <th>registration_day_of_week</th>\n",
       "      <th>payment_method_id</th>\n",
       "      <th>payment_plan_days</th>\n",
       "      <th>plan_list_price</th>\n",
       "      <th>actual_amount_paid</th>\n",
       "      <th>is_auto_renew</th>\n",
       "      <th>transaction_date</th>\n",
       "      <th>membership_expire_date</th>\n",
       "      <th>is_cancel</th>\n",
       "      <th>discount</th>\n",
       "      <th>price_diff</th>\n",
       "      <th>num_unq</th>\n",
       "      <th>total_songs</th>\n",
       "      <th>songs_repeated</th>\n",
       "    </tr>\n",
       "  </thead>\n",
       "  <tbody>\n",
       "    <tr>\n",
       "      <th>0</th>\n",
       "      <td>waLDQMmcOu2jLDaV1ddDkgCrB/jl6sD66Xzs0Vqax1Y=</td>\n",
       "      <td>1</td>\n",
       "      <td>999</td>\n",
       "      <td>36</td>\n",
       "      <td>9</td>\n",
       "      <td>2005-04-06</td>\n",
       "      <td>good</td>\n",
       "      <td>2005</td>\n",
       "      <td>4</td>\n",
       "      <td>6</td>\n",
       "      <td>2</td>\n",
       "      <td>Wednesday</td>\n",
       "      <td>38</td>\n",
       "      <td>30</td>\n",
       "      <td>149</td>\n",
       "      <td>149</td>\n",
       "      <td>0</td>\n",
       "      <td>2017-01-07</td>\n",
       "      <td>2017-02-06</td>\n",
       "      <td>0</td>\n",
       "      <td>0</td>\n",
       "      <td>0</td>\n",
       "      <td>173</td>\n",
       "      <td>188</td>\n",
       "      <td>15</td>\n",
       "    </tr>\n",
       "    <tr>\n",
       "      <th>1</th>\n",
       "      <td>QA7uiXy8vIbUSPOkCf9RwQ3FsT8jVq2OxDr8zqa7bRQ=</td>\n",
       "      <td>1</td>\n",
       "      <td>999</td>\n",
       "      <td>38</td>\n",
       "      <td>9</td>\n",
       "      <td>2005-04-07</td>\n",
       "      <td>good</td>\n",
       "      <td>2005</td>\n",
       "      <td>4</td>\n",
       "      <td>7</td>\n",
       "      <td>3</td>\n",
       "      <td>Thursday</td>\n",
       "      <td>39</td>\n",
       "      <td>30</td>\n",
       "      <td>149</td>\n",
       "      <td>149</td>\n",
       "      <td>1</td>\n",
       "      <td>2017-02-24</td>\n",
       "      <td>2017-03-21</td>\n",
       "      <td>1</td>\n",
       "      <td>0</td>\n",
       "      <td>0</td>\n",
       "      <td>1923</td>\n",
       "      <td>2814</td>\n",
       "      <td>891</td>\n",
       "    </tr>\n",
       "    <tr>\n",
       "      <th>2</th>\n",
       "      <td>fGwBva6hikQmTJzrbz/2Ezjm5Cth5jZUNvXigKK2AFA=</td>\n",
       "      <td>1</td>\n",
       "      <td>999</td>\n",
       "      <td>27</td>\n",
       "      <td>9</td>\n",
       "      <td>2005-10-16</td>\n",
       "      <td>good</td>\n",
       "      <td>2005</td>\n",
       "      <td>10</td>\n",
       "      <td>16</td>\n",
       "      <td>6</td>\n",
       "      <td>Sunday</td>\n",
       "      <td>39</td>\n",
       "      <td>30</td>\n",
       "      <td>149</td>\n",
       "      <td>149</td>\n",
       "      <td>1</td>\n",
       "      <td>2017-01-12</td>\n",
       "      <td>2017-02-03</td>\n",
       "      <td>1</td>\n",
       "      <td>0</td>\n",
       "      <td>0</td>\n",
       "      <td>2824</td>\n",
       "      <td>3280</td>\n",
       "      <td>456</td>\n",
       "    </tr>\n",
       "    <tr>\n",
       "      <th>3</th>\n",
       "      <td>mT5V8rEpa+8wuqi6x0DoVd3H5icMKkE9Prt49UlmK+4=</td>\n",
       "      <td>1</td>\n",
       "      <td>13</td>\n",
       "      <td>23</td>\n",
       "      <td>9</td>\n",
       "      <td>2005-11-02</td>\n",
       "      <td>good</td>\n",
       "      <td>2005</td>\n",
       "      <td>11</td>\n",
       "      <td>2</td>\n",
       "      <td>2</td>\n",
       "      <td>Wednesday</td>\n",
       "      <td>38</td>\n",
       "      <td>410</td>\n",
       "      <td>1788</td>\n",
       "      <td>1788</td>\n",
       "      <td>0</td>\n",
       "      <td>2016-01-06</td>\n",
       "      <td>2017-02-20</td>\n",
       "      <td>0</td>\n",
       "      <td>0</td>\n",
       "      <td>0</td>\n",
       "      <td>5380</td>\n",
       "      <td>9266</td>\n",
       "      <td>3886</td>\n",
       "    </tr>\n",
       "    <tr>\n",
       "      <th>4</th>\n",
       "      <td>XaPhtGLk/5UvvOYHcONTwsnH97P4eGECeq+BARGItRw=</td>\n",
       "      <td>1</td>\n",
       "      <td>999</td>\n",
       "      <td>27</td>\n",
       "      <td>9</td>\n",
       "      <td>2005-12-28</td>\n",
       "      <td>good</td>\n",
       "      <td>2005</td>\n",
       "      <td>12</td>\n",
       "      <td>28</td>\n",
       "      <td>2</td>\n",
       "      <td>Wednesday</td>\n",
       "      <td>38</td>\n",
       "      <td>30</td>\n",
       "      <td>149</td>\n",
       "      <td>149</td>\n",
       "      <td>0</td>\n",
       "      <td>2016-11-29</td>\n",
       "      <td>2016-12-29</td>\n",
       "      <td>0</td>\n",
       "      <td>0</td>\n",
       "      <td>0</td>\n",
       "      <td>19379</td>\n",
       "      <td>19920</td>\n",
       "      <td>541</td>\n",
       "    </tr>\n",
       "  </tbody>\n",
       "</table>\n",
       "</div>"
      ],
      "text/plain": [
       "                                           msno  is_churn  city  bd  \\\n",
       "0  waLDQMmcOu2jLDaV1ddDkgCrB/jl6sD66Xzs0Vqax1Y=         1   999  36   \n",
       "1  QA7uiXy8vIbUSPOkCf9RwQ3FsT8jVq2OxDr8zqa7bRQ=         1   999  38   \n",
       "2  fGwBva6hikQmTJzrbz/2Ezjm5Cth5jZUNvXigKK2AFA=         1   999  27   \n",
       "3  mT5V8rEpa+8wuqi6x0DoVd3H5icMKkE9Prt49UlmK+4=         1    13  23   \n",
       "4  XaPhtGLk/5UvvOYHcONTwsnH97P4eGECeq+BARGItRw=         1   999  27   \n",
       "\n",
       "   registered_via registration_init_time bd_checker  registration_year  \\\n",
       "0               9             2005-04-06       good               2005   \n",
       "1               9             2005-04-07       good               2005   \n",
       "2               9             2005-10-16       good               2005   \n",
       "3               9             2005-11-02       good               2005   \n",
       "4               9             2005-12-28       good               2005   \n",
       "\n",
       "   registration_month  registration_day  registration_weekday  \\\n",
       "0                   4                 6                     2   \n",
       "1                   4                 7                     3   \n",
       "2                  10                16                     6   \n",
       "3                  11                 2                     2   \n",
       "4                  12                28                     2   \n",
       "\n",
       "  registration_day_of_week  payment_method_id  payment_plan_days  \\\n",
       "0                Wednesday                 38                 30   \n",
       "1                 Thursday                 39                 30   \n",
       "2                   Sunday                 39                 30   \n",
       "3                Wednesday                 38                410   \n",
       "4                Wednesday                 38                 30   \n",
       "\n",
       "   plan_list_price  actual_amount_paid  is_auto_renew transaction_date  \\\n",
       "0              149                 149              0       2017-01-07   \n",
       "1              149                 149              1       2017-02-24   \n",
       "2              149                 149              1       2017-01-12   \n",
       "3             1788                1788              0       2016-01-06   \n",
       "4              149                 149              0       2016-11-29   \n",
       "\n",
       "  membership_expire_date  is_cancel  discount  price_diff  num_unq  \\\n",
       "0             2017-02-06          0         0           0      173   \n",
       "1             2017-03-21          1         0           0     1923   \n",
       "2             2017-02-03          1         0           0     2824   \n",
       "3             2017-02-20          0         0           0     5380   \n",
       "4             2016-12-29          0         0           0    19379   \n",
       "\n",
       "   total_songs  songs_repeated  \n",
       "0          188              15  \n",
       "1         2814             891  \n",
       "2         3280             456  \n",
       "3         9266            3886  \n",
       "4        19920             541  "
      ]
     },
     "execution_count": 524,
     "metadata": {},
     "output_type": "execute_result"
    }
   ],
   "source": [
    "# merge all\n",
    "df= pd.merge(left = df_member,right = max_transact,how = 'inner',on=['msno'])\n",
    "print(df.shape)\n",
    "df.head()\n",
    "\n",
    "df= pd.merge(left = df,right = df_log,how = 'inner',on=['msno'])\n",
    "print(df.shape)\n",
    "df.head()\n"
   ]
  },
  {
   "cell_type": "code",
   "execution_count": 525,
   "metadata": {},
   "outputs": [
    {
     "name": "stdout",
     "output_type": "stream",
     "text": [
      "<class 'pandas.core.frame.DataFrame'>\n",
      "Int64Index: 793311 entries, 0 to 793310\n",
      "Data columns (total 25 columns):\n",
      "msno                        793311 non-null object\n",
      "is_churn                    793311 non-null int64\n",
      "city                        793311 non-null int64\n",
      "bd                          793311 non-null int64\n",
      "registered_via              793311 non-null int64\n",
      "registration_init_time      793311 non-null datetime64[ns]\n",
      "bd_checker                  793311 non-null object\n",
      "registration_year           793311 non-null int64\n",
      "registration_month          793311 non-null int64\n",
      "registration_day            793311 non-null int64\n",
      "registration_weekday        793311 non-null int64\n",
      "registration_day_of_week    793311 non-null object\n",
      "payment_method_id           793311 non-null int64\n",
      "payment_plan_days           793311 non-null int64\n",
      "plan_list_price             793311 non-null int64\n",
      "actual_amount_paid          793311 non-null int64\n",
      "is_auto_renew               793311 non-null int64\n",
      "transaction_date            793311 non-null datetime64[ns]\n",
      "membership_expire_date      793311 non-null datetime64[ns]\n",
      "is_cancel                   793311 non-null int64\n",
      "discount                    793311 non-null int64\n",
      "price_diff                  793311 non-null int64\n",
      "num_unq                     793311 non-null int64\n",
      "total_songs                 793311 non-null int64\n",
      "songs_repeated              793311 non-null int64\n",
      "dtypes: datetime64[ns](3), int64(19), object(3)\n",
      "memory usage: 157.4+ MB\n"
     ]
    }
   ],
   "source": [
    "df.info()"
   ]
  },
  {
   "cell_type": "code",
   "execution_count": 526,
   "metadata": {},
   "outputs": [
    {
     "data": {
      "text/html": [
       "<div>\n",
       "<style scoped>\n",
       "    .dataframe tbody tr th:only-of-type {\n",
       "        vertical-align: middle;\n",
       "    }\n",
       "\n",
       "    .dataframe tbody tr th {\n",
       "        vertical-align: top;\n",
       "    }\n",
       "\n",
       "    .dataframe thead th {\n",
       "        text-align: right;\n",
       "    }\n",
       "</style>\n",
       "<table border=\"1\" class=\"dataframe\">\n",
       "  <thead>\n",
       "    <tr style=\"text-align: right;\">\n",
       "      <th></th>\n",
       "      <th>msno</th>\n",
       "      <th>is_churn</th>\n",
       "      <th>city</th>\n",
       "      <th>bd</th>\n",
       "      <th>registered_via</th>\n",
       "      <th>registration_init_time</th>\n",
       "      <th>bd_checker</th>\n",
       "      <th>registration_year</th>\n",
       "      <th>registration_month</th>\n",
       "      <th>registration_day</th>\n",
       "      <th>registration_weekday</th>\n",
       "      <th>registration_day_of_week</th>\n",
       "      <th>payment_method_id</th>\n",
       "      <th>payment_plan_days</th>\n",
       "      <th>plan_list_price</th>\n",
       "      <th>actual_amount_paid</th>\n",
       "      <th>is_auto_renew</th>\n",
       "      <th>transaction_date</th>\n",
       "      <th>membership_expire_date</th>\n",
       "      <th>is_cancel</th>\n",
       "      <th>discount</th>\n",
       "      <th>price_diff</th>\n",
       "      <th>num_unq</th>\n",
       "      <th>total_songs</th>\n",
       "      <th>songs_repeated</th>\n",
       "      <th>membership_length</th>\n",
       "    </tr>\n",
       "  </thead>\n",
       "  <tbody>\n",
       "    <tr>\n",
       "      <th>0</th>\n",
       "      <td>waLDQMmcOu2jLDaV1ddDkgCrB/jl6sD66Xzs0Vqax1Y=</td>\n",
       "      <td>1</td>\n",
       "      <td>999</td>\n",
       "      <td>36</td>\n",
       "      <td>9</td>\n",
       "      <td>2005-04-06</td>\n",
       "      <td>good</td>\n",
       "      <td>2005</td>\n",
       "      <td>4</td>\n",
       "      <td>6</td>\n",
       "      <td>2</td>\n",
       "      <td>Wednesday</td>\n",
       "      <td>38</td>\n",
       "      <td>30</td>\n",
       "      <td>149</td>\n",
       "      <td>149</td>\n",
       "      <td>0</td>\n",
       "      <td>2017-01-07</td>\n",
       "      <td>2017-02-06</td>\n",
       "      <td>0</td>\n",
       "      <td>0</td>\n",
       "      <td>0</td>\n",
       "      <td>173</td>\n",
       "      <td>188</td>\n",
       "      <td>15</td>\n",
       "      <td>11.84</td>\n",
       "    </tr>\n",
       "    <tr>\n",
       "      <th>1</th>\n",
       "      <td>QA7uiXy8vIbUSPOkCf9RwQ3FsT8jVq2OxDr8zqa7bRQ=</td>\n",
       "      <td>1</td>\n",
       "      <td>999</td>\n",
       "      <td>38</td>\n",
       "      <td>9</td>\n",
       "      <td>2005-04-07</td>\n",
       "      <td>good</td>\n",
       "      <td>2005</td>\n",
       "      <td>4</td>\n",
       "      <td>7</td>\n",
       "      <td>3</td>\n",
       "      <td>Thursday</td>\n",
       "      <td>39</td>\n",
       "      <td>30</td>\n",
       "      <td>149</td>\n",
       "      <td>149</td>\n",
       "      <td>1</td>\n",
       "      <td>2017-02-24</td>\n",
       "      <td>2017-03-21</td>\n",
       "      <td>1</td>\n",
       "      <td>0</td>\n",
       "      <td>0</td>\n",
       "      <td>1923</td>\n",
       "      <td>2814</td>\n",
       "      <td>891</td>\n",
       "      <td>11.95</td>\n",
       "    </tr>\n",
       "    <tr>\n",
       "      <th>2</th>\n",
       "      <td>fGwBva6hikQmTJzrbz/2Ezjm5Cth5jZUNvXigKK2AFA=</td>\n",
       "      <td>1</td>\n",
       "      <td>999</td>\n",
       "      <td>27</td>\n",
       "      <td>9</td>\n",
       "      <td>2005-10-16</td>\n",
       "      <td>good</td>\n",
       "      <td>2005</td>\n",
       "      <td>10</td>\n",
       "      <td>16</td>\n",
       "      <td>6</td>\n",
       "      <td>Sunday</td>\n",
       "      <td>39</td>\n",
       "      <td>30</td>\n",
       "      <td>149</td>\n",
       "      <td>149</td>\n",
       "      <td>1</td>\n",
       "      <td>2017-01-12</td>\n",
       "      <td>2017-02-03</td>\n",
       "      <td>1</td>\n",
       "      <td>0</td>\n",
       "      <td>0</td>\n",
       "      <td>2824</td>\n",
       "      <td>3280</td>\n",
       "      <td>456</td>\n",
       "      <td>11.30</td>\n",
       "    </tr>\n",
       "    <tr>\n",
       "      <th>3</th>\n",
       "      <td>mT5V8rEpa+8wuqi6x0DoVd3H5icMKkE9Prt49UlmK+4=</td>\n",
       "      <td>1</td>\n",
       "      <td>13</td>\n",
       "      <td>23</td>\n",
       "      <td>9</td>\n",
       "      <td>2005-11-02</td>\n",
       "      <td>good</td>\n",
       "      <td>2005</td>\n",
       "      <td>11</td>\n",
       "      <td>2</td>\n",
       "      <td>2</td>\n",
       "      <td>Wednesday</td>\n",
       "      <td>38</td>\n",
       "      <td>410</td>\n",
       "      <td>1788</td>\n",
       "      <td>1788</td>\n",
       "      <td>0</td>\n",
       "      <td>2016-01-06</td>\n",
       "      <td>2017-02-20</td>\n",
       "      <td>0</td>\n",
       "      <td>0</td>\n",
       "      <td>0</td>\n",
       "      <td>5380</td>\n",
       "      <td>9266</td>\n",
       "      <td>3886</td>\n",
       "      <td>11.30</td>\n",
       "    </tr>\n",
       "    <tr>\n",
       "      <th>4</th>\n",
       "      <td>XaPhtGLk/5UvvOYHcONTwsnH97P4eGECeq+BARGItRw=</td>\n",
       "      <td>1</td>\n",
       "      <td>999</td>\n",
       "      <td>27</td>\n",
       "      <td>9</td>\n",
       "      <td>2005-12-28</td>\n",
       "      <td>good</td>\n",
       "      <td>2005</td>\n",
       "      <td>12</td>\n",
       "      <td>28</td>\n",
       "      <td>2</td>\n",
       "      <td>Wednesday</td>\n",
       "      <td>38</td>\n",
       "      <td>30</td>\n",
       "      <td>149</td>\n",
       "      <td>149</td>\n",
       "      <td>0</td>\n",
       "      <td>2016-11-29</td>\n",
       "      <td>2016-12-29</td>\n",
       "      <td>0</td>\n",
       "      <td>0</td>\n",
       "      <td>0</td>\n",
       "      <td>19379</td>\n",
       "      <td>19920</td>\n",
       "      <td>541</td>\n",
       "      <td>11.00</td>\n",
       "    </tr>\n",
       "  </tbody>\n",
       "</table>\n",
       "</div>"
      ],
      "text/plain": [
       "                                           msno  is_churn  city  bd  \\\n",
       "0  waLDQMmcOu2jLDaV1ddDkgCrB/jl6sD66Xzs0Vqax1Y=         1   999  36   \n",
       "1  QA7uiXy8vIbUSPOkCf9RwQ3FsT8jVq2OxDr8zqa7bRQ=         1   999  38   \n",
       "2  fGwBva6hikQmTJzrbz/2Ezjm5Cth5jZUNvXigKK2AFA=         1   999  27   \n",
       "3  mT5V8rEpa+8wuqi6x0DoVd3H5icMKkE9Prt49UlmK+4=         1    13  23   \n",
       "4  XaPhtGLk/5UvvOYHcONTwsnH97P4eGECeq+BARGItRw=         1   999  27   \n",
       "\n",
       "   registered_via registration_init_time bd_checker  registration_year  \\\n",
       "0               9             2005-04-06       good               2005   \n",
       "1               9             2005-04-07       good               2005   \n",
       "2               9             2005-10-16       good               2005   \n",
       "3               9             2005-11-02       good               2005   \n",
       "4               9             2005-12-28       good               2005   \n",
       "\n",
       "   registration_month  registration_day  registration_weekday  \\\n",
       "0                   4                 6                     2   \n",
       "1                   4                 7                     3   \n",
       "2                  10                16                     6   \n",
       "3                  11                 2                     2   \n",
       "4                  12                28                     2   \n",
       "\n",
       "  registration_day_of_week  payment_method_id  payment_plan_days  \\\n",
       "0                Wednesday                 38                 30   \n",
       "1                 Thursday                 39                 30   \n",
       "2                   Sunday                 39                 30   \n",
       "3                Wednesday                 38                410   \n",
       "4                Wednesday                 38                 30   \n",
       "\n",
       "   plan_list_price  actual_amount_paid  is_auto_renew transaction_date  \\\n",
       "0              149                 149              0       2017-01-07   \n",
       "1              149                 149              1       2017-02-24   \n",
       "2              149                 149              1       2017-01-12   \n",
       "3             1788                1788              0       2016-01-06   \n",
       "4              149                 149              0       2016-11-29   \n",
       "\n",
       "  membership_expire_date  is_cancel  discount  price_diff  num_unq  \\\n",
       "0             2017-02-06          0         0           0      173   \n",
       "1             2017-03-21          1         0           0     1923   \n",
       "2             2017-02-03          1         0           0     2824   \n",
       "3             2017-02-20          0         0           0     5380   \n",
       "4             2016-12-29          0         0           0    19379   \n",
       "\n",
       "   total_songs  songs_repeated  membership_length  \n",
       "0          188              15              11.84  \n",
       "1         2814             891              11.95  \n",
       "2         3280             456              11.30  \n",
       "3         9266            3886              11.30  \n",
       "4        19920             541              11.00  "
      ]
     },
     "execution_count": 526,
     "metadata": {},
     "output_type": "execute_result"
    }
   ],
   "source": [
    "df['membership_length'] = df['membership_expire_date']-df['registration_init_time']\n",
    "df['membership_length'] = round(df['membership_length'].dt.days/365.25,2)\n",
    "df.head()"
   ]
  },
  {
   "cell_type": "code",
   "execution_count": 527,
   "metadata": {},
   "outputs": [
    {
     "name": "stdout",
     "output_type": "stream",
     "text": [
      "0    746140\n",
      "1     47171\n",
      "Name: is_churn, dtype: int64\n",
      "\n",
      "percentage\n",
      "0    94.053908\n",
      "1     5.946092\n",
      "Name: is_churn, dtype: float64\n",
      "\n"
     ]
    },
    {
     "data": {
      "text/plain": [
       "<matplotlib.axes._subplots.AxesSubplot at 0x1a5be02668>"
      ]
     },
     "execution_count": 527,
     "metadata": {},
     "output_type": "execute_result"
    },
    {
     "data": {
      "image/png": "[encoded data removed]",
      "text/plain": [
       "<Figure size 432x288 with 1 Axes>"
      ]
     },
     "metadata": {
      "needs_background": "light"
     },
     "output_type": "display_data"
    }
   ],
   "source": [
    "# recheck churn variance\n",
    "print(df.is_churn.value_counts(dropna=False))\n",
    "print()\n",
    "print('percentage')\n",
    "print(df.is_churn.value_counts(dropna=False,normalize=True)*100)\n",
    "print()\n",
    "df.is_churn.value_counts(dropna=False,normalize=True).plot(kind='bar')"
   ]
  },
  {
   "cell_type": "code",
   "execution_count": 528,
   "metadata": {},
   "outputs": [],
   "source": [
    "# still low variance in churn data will have to resample"
   ]
  },
  {
   "cell_type": "code",
   "execution_count": 529,
   "metadata": {},
   "outputs": [
    {
     "name": "stdout",
     "output_type": "stream",
     "text": [
      "(36, 26)\n"
     ]
    },
    {
     "data": {
      "text/html": [
       "<div>\n",
       "<style scoped>\n",
       "    .dataframe tbody tr th:only-of-type {\n",
       "        vertical-align: middle;\n",
       "    }\n",
       "\n",
       "    .dataframe tbody tr th {\n",
       "        vertical-align: top;\n",
       "    }\n",
       "\n",
       "    .dataframe thead th {\n",
       "        text-align: right;\n",
       "    }\n",
       "</style>\n",
       "<table border=\"1\" class=\"dataframe\">\n",
       "  <thead>\n",
       "    <tr style=\"text-align: right;\">\n",
       "      <th></th>\n",
       "      <th>msno</th>\n",
       "      <th>is_churn</th>\n",
       "      <th>city</th>\n",
       "      <th>bd</th>\n",
       "      <th>registered_via</th>\n",
       "      <th>registration_init_time</th>\n",
       "      <th>bd_checker</th>\n",
       "      <th>registration_year</th>\n",
       "      <th>registration_month</th>\n",
       "      <th>registration_day</th>\n",
       "      <th>registration_weekday</th>\n",
       "      <th>registration_day_of_week</th>\n",
       "      <th>payment_method_id</th>\n",
       "      <th>payment_plan_days</th>\n",
       "      <th>plan_list_price</th>\n",
       "      <th>actual_amount_paid</th>\n",
       "      <th>is_auto_renew</th>\n",
       "      <th>transaction_date</th>\n",
       "      <th>membership_expire_date</th>\n",
       "      <th>is_cancel</th>\n",
       "      <th>discount</th>\n",
       "      <th>price_diff</th>\n",
       "      <th>num_unq</th>\n",
       "      <th>total_songs</th>\n",
       "      <th>songs_repeated</th>\n",
       "      <th>membership_length</th>\n",
       "    </tr>\n",
       "  </thead>\n",
       "  <tbody>\n",
       "    <tr>\n",
       "      <th>2672</th>\n",
       "      <td>yPst/g3QjR9SnJAd9neezOvLsCkSy77uS9SzYbdmiH0=</td>\n",
       "      <td>1</td>\n",
       "      <td>999</td>\n",
       "      <td>20</td>\n",
       "      <td>9</td>\n",
       "      <td>2009-04-15</td>\n",
       "      <td>good</td>\n",
       "      <td>2009</td>\n",
       "      <td>4</td>\n",
       "      <td>15</td>\n",
       "      <td>2</td>\n",
       "      <td>Wednesday</td>\n",
       "      <td>17</td>\n",
       "      <td>240</td>\n",
       "      <td>0</td>\n",
       "      <td>0</td>\n",
       "      <td>0</td>\n",
       "      <td>2017-01-28</td>\n",
       "      <td>1970-01-01</td>\n",
       "      <td>0</td>\n",
       "      <td>0</td>\n",
       "      <td>0</td>\n",
       "      <td>606</td>\n",
       "      <td>703</td>\n",
       "      <td>97</td>\n",
       "      <td>-39.29</td>\n",
       "    </tr>\n",
       "    <tr>\n",
       "      <th>5984</th>\n",
       "      <td>bJBEuEmV3fK5KVqPcwhZA312LmPafJRKnGWDK0HjBJs=</td>\n",
       "      <td>1</td>\n",
       "      <td>13</td>\n",
       "      <td>21</td>\n",
       "      <td>9</td>\n",
       "      <td>2007-12-15</td>\n",
       "      <td>good</td>\n",
       "      <td>2007</td>\n",
       "      <td>12</td>\n",
       "      <td>15</td>\n",
       "      <td>5</td>\n",
       "      <td>Saturday</td>\n",
       "      <td>17</td>\n",
       "      <td>120</td>\n",
       "      <td>0</td>\n",
       "      <td>0</td>\n",
       "      <td>0</td>\n",
       "      <td>2017-01-23</td>\n",
       "      <td>1970-01-01</td>\n",
       "      <td>0</td>\n",
       "      <td>0</td>\n",
       "      <td>0</td>\n",
       "      <td>7674</td>\n",
       "      <td>8374</td>\n",
       "      <td>700</td>\n",
       "      <td>-37.95</td>\n",
       "    </tr>\n",
       "    <tr>\n",
       "      <th>7559</th>\n",
       "      <td>6OpDsHnKIIMD8bgZqJR/k51Mh7nTMDf7Ex6mD3sBv9o=</td>\n",
       "      <td>1</td>\n",
       "      <td>1</td>\n",
       "      <td>22</td>\n",
       "      <td>7</td>\n",
       "      <td>2016-02-07</td>\n",
       "      <td>good</td>\n",
       "      <td>2016</td>\n",
       "      <td>2</td>\n",
       "      <td>7</td>\n",
       "      <td>6</td>\n",
       "      <td>Sunday</td>\n",
       "      <td>17</td>\n",
       "      <td>240</td>\n",
       "      <td>0</td>\n",
       "      <td>0</td>\n",
       "      <td>0</td>\n",
       "      <td>2017-01-26</td>\n",
       "      <td>1970-01-01</td>\n",
       "      <td>0</td>\n",
       "      <td>0</td>\n",
       "      <td>0</td>\n",
       "      <td>1362</td>\n",
       "      <td>1483</td>\n",
       "      <td>121</td>\n",
       "      <td>-46.10</td>\n",
       "    </tr>\n",
       "    <tr>\n",
       "      <th>9342</th>\n",
       "      <td>HtFCE7e2FqV7TT6FVLDK+QS6mMPYxotIES8YLlzAKWM=</td>\n",
       "      <td>1</td>\n",
       "      <td>1</td>\n",
       "      <td>19</td>\n",
       "      <td>9</td>\n",
       "      <td>2016-07-18</td>\n",
       "      <td>good</td>\n",
       "      <td>2016</td>\n",
       "      <td>7</td>\n",
       "      <td>18</td>\n",
       "      <td>0</td>\n",
       "      <td>Monday</td>\n",
       "      <td>17</td>\n",
       "      <td>120</td>\n",
       "      <td>0</td>\n",
       "      <td>0</td>\n",
       "      <td>0</td>\n",
       "      <td>2017-02-02</td>\n",
       "      <td>1970-01-01</td>\n",
       "      <td>0</td>\n",
       "      <td>0</td>\n",
       "      <td>0</td>\n",
       "      <td>1343</td>\n",
       "      <td>1987</td>\n",
       "      <td>644</td>\n",
       "      <td>-46.54</td>\n",
       "    </tr>\n",
       "    <tr>\n",
       "      <th>12965</th>\n",
       "      <td>+NTqmvxq7rww7DC6EzVx9yE1zxs+rCoXHS1LxgxPFxU=</td>\n",
       "      <td>1</td>\n",
       "      <td>1</td>\n",
       "      <td>999</td>\n",
       "      <td>4</td>\n",
       "      <td>2017-01-08</td>\n",
       "      <td>bad</td>\n",
       "      <td>2017</td>\n",
       "      <td>1</td>\n",
       "      <td>8</td>\n",
       "      <td>6</td>\n",
       "      <td>Sunday</td>\n",
       "      <td>29</td>\n",
       "      <td>30</td>\n",
       "      <td>180</td>\n",
       "      <td>180</td>\n",
       "      <td>1</td>\n",
       "      <td>2017-02-10</td>\n",
       "      <td>1970-01-01</td>\n",
       "      <td>1</td>\n",
       "      <td>0</td>\n",
       "      <td>0</td>\n",
       "      <td>58</td>\n",
       "      <td>100</td>\n",
       "      <td>42</td>\n",
       "      <td>-47.02</td>\n",
       "    </tr>\n",
       "  </tbody>\n",
       "</table>\n",
       "</div>"
      ],
      "text/plain": [
       "                                               msno  is_churn  city   bd  \\\n",
       "2672   yPst/g3QjR9SnJAd9neezOvLsCkSy77uS9SzYbdmiH0=         1   999   20   \n",
       "5984   bJBEuEmV3fK5KVqPcwhZA312LmPafJRKnGWDK0HjBJs=         1    13   21   \n",
       "7559   6OpDsHnKIIMD8bgZqJR/k51Mh7nTMDf7Ex6mD3sBv9o=         1     1   22   \n",
       "9342   HtFCE7e2FqV7TT6FVLDK+QS6mMPYxotIES8YLlzAKWM=         1     1   19   \n",
       "12965  +NTqmvxq7rww7DC6EzVx9yE1zxs+rCoXHS1LxgxPFxU=         1     1  999   \n",
       "\n",
       "       registered_via registration_init_time bd_checker  registration_year  \\\n",
       "2672                9             2009-04-15       good               2009   \n",
       "5984                9             2007-12-15       good               2007   \n",
       "7559                7             2016-02-07       good               2016   \n",
       "9342                9             2016-07-18       good               2016   \n",
       "12965               4             2017-01-08        bad               2017   \n",
       "\n",
       "       registration_month  registration_day  registration_weekday  \\\n",
       "2672                    4                15                     2   \n",
       "5984                   12                15                     5   \n",
       "7559                    2                 7                     6   \n",
       "9342                    7                18                     0   \n",
       "12965                   1                 8                     6   \n",
       "\n",
       "      registration_day_of_week  payment_method_id  payment_plan_days  \\\n",
       "2672                 Wednesday                 17                240   \n",
       "5984                  Saturday                 17                120   \n",
       "7559                    Sunday                 17                240   \n",
       "9342                    Monday                 17                120   \n",
       "12965                   Sunday                 29                 30   \n",
       "\n",
       "       plan_list_price  actual_amount_paid  is_auto_renew transaction_date  \\\n",
       "2672                 0                   0              0       2017-01-28   \n",
       "5984                 0                   0              0       2017-01-23   \n",
       "7559                 0                   0              0       2017-01-26   \n",
       "9342                 0                   0              0       2017-02-02   \n",
       "12965              180                 180              1       2017-02-10   \n",
       "\n",
       "      membership_expire_date  is_cancel  discount  price_diff  num_unq  \\\n",
       "2672              1970-01-01          0         0           0      606   \n",
       "5984              1970-01-01          0         0           0     7674   \n",
       "7559              1970-01-01          0         0           0     1362   \n",
       "9342              1970-01-01          0         0           0     1343   \n",
       "12965             1970-01-01          1         0           0       58   \n",
       "\n",
       "       total_songs  songs_repeated  membership_length  \n",
       "2672           703              97             -39.29  \n",
       "5984          8374             700             -37.95  \n",
       "7559          1483             121             -46.10  \n",
       "9342          1987             644             -46.54  \n",
       "12965          100              42             -47.02  "
      ]
     },
     "execution_count": 529,
     "metadata": {},
     "output_type": "execute_result"
    }
   ],
   "source": [
    "cheker = df[df['membership_length']<0]\n",
    "print(cheker.shape)\n",
    "cheker.head()"
   ]
  },
  {
   "cell_type": "code",
   "execution_count": 530,
   "metadata": {},
   "outputs": [
    {
     "data": {
      "text/plain": [
       "array(['1970-01-01T00:00:00.000000000'], dtype='datetime64[ns]')"
      ]
     },
     "execution_count": 530,
     "metadata": {},
     "output_type": "execute_result"
    }
   ],
   "source": [
    "cheker['membership_expire_date'].unique()"
   ]
  },
  {
   "cell_type": "code",
   "execution_count": 531,
   "metadata": {},
   "outputs": [
    {
     "name": "stdout",
     "output_type": "stream",
     "text": [
      "(793203, 26)\n",
      "0    0.940555\n",
      "1    0.059445\n",
      "Name: is_churn, dtype: float64\n"
     ]
    }
   ],
   "source": [
    "# corrupted data in membership_expire_date column affects 87 rows\n",
    "#dropping corrupted data\n",
    "df = df[df['membership_length']>0]\n",
    "print(df.shape)\n",
    "print(df.is_churn.value_counts(dropna=False, normalize=True))"
   ]
  },
  {
   "cell_type": "code",
   "execution_count": 532,
   "metadata": {},
   "outputs": [
    {
     "data": {
      "text/plain": [
       "<matplotlib.axes._subplots.AxesSubplot at 0x1a5f14fb00>"
      ]
     },
     "execution_count": 532,
     "metadata": {},
     "output_type": "execute_result"
    },
    {
     "data": {
      "image/png": "[encoded data removed]",
      "text/plain": [
       "<Figure size 1800x1080 with 2 Axes>"
      ]
     },
     "metadata": {
      "needs_background": "light"
     },
     "output_type": "display_data"
    }
   ],
   "source": [
    "# correlation heatmap of final data\n",
    "corr = df.corr()\n",
    "mask = np.zeros_like(corr, dtype=np.bool)\n",
    "mask[np.triu_indices_from(mask)] = True\n",
    "plt.figure(figsize = (25,15))\n",
    "sns.heatmap(corr, mask=mask, vmin=-.9,vmax=.9, square=True,annot=True, fmt=\".1f\")"
   ]
  },
  {
   "cell_type": "code",
   "execution_count": 533,
   "metadata": {},
   "outputs": [],
   "source": [
    "# remove non correlated columns\n",
    "df.drop(['price_diff', 'discount', 'plan_list_price', 'registration_weekday','registration_year','registration_month',\n",
    "         'registration_day','bd_checker', 'registration_day_of_week', 'bd'], axis=1, inplace=True)"
   ]
  },
  {
   "cell_type": "code",
   "execution_count": 534,
   "metadata": {},
   "outputs": [],
   "source": [
    "# churn has a correlation with is_auto_renew as suspected\n",
    "# summarised user logs have no correlation with churn"
   ]
  },
  {
   "cell_type": "code",
   "execution_count": 535,
   "metadata": {},
   "outputs": [],
   "source": [
    "# send data to csv\n",
    "df.to_csv('./all_Data.csv')"
   ]
  },
  {
   "cell_type": "code",
   "execution_count": 536,
   "metadata": {},
   "outputs": [
    {
     "data": {
      "text/plain": [
       "0    0.940555\n",
       "1    0.059445\n",
       "Name: is_churn, dtype: float64"
      ]
     },
     "execution_count": 536,
     "metadata": {},
     "output_type": "execute_result"
    }
   ],
   "source": [
    "df.is_churn.value_counts(normalize=True)"
   ]
  },
  {
   "cell_type": "code",
   "execution_count": null,
   "metadata": {},
   "outputs": [],
   "source": []
  },
  {
   "cell_type": "code",
   "execution_count": null,
   "metadata": {},
   "outputs": [],
   "source": []
  }
 ],
 "metadata": {
  "kernelspec": {
   "display_name": "Python 3",
   "language": "python",
   "name": "python3"
  },
  "language_info": {
   "codemirror_mode": {
    "name": "ipython",
    "version": 3
   },
   "file_extension": ".py",
   "mimetype": "text/x-python",
   "name": "python",
   "nbconvert_exporter": "python",
   "pygments_lexer": "ipython3",
   "version": "3.7.1"
  }
 },
 "nbformat": 4,
 "nbformat_minor": 2
}
